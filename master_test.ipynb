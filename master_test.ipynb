{
 "cells": [
  {
   "cell_type": "markdown",
   "id": "e6bb6743",
   "metadata": {},
   "source": [
    "# Теоретическая часть:"
   ]
  },
  {
   "cell_type": "markdown",
   "id": "fb7d0f25",
   "metadata": {},
   "source": [
    "<b>1. Вопрос:</b> \n",
    "Дайте определение ARPPU. В результате изменений в продукте ARPPU\n",
    "снизился. Это хорошо или плохо? Отвечайте развернуто."
   ]
  },
  {
   "cell_type": "markdown",
   "id": "e5881594",
   "metadata": {},
   "source": [
    "<b>Ответ:</b> \n",
    "\n",
    "ARPPU - это доля прибыли, который приносит один платяжий пользователь.\n",
    "\n",
    "\n",
    "Рассчитывается по формуле: revenue / количество платяжих пользоватлей.\n",
    "\n",
    "Возможны два варианта:\n",
    "- часть платящей аудитории откололась, выручка уменьшилась, следовательно, уменьшилась и метрика,\n",
    "- мы могли привлечь аудиторию, например, промокодом, или скидкой на оплату сервиса. В этом случае, аудитория увеличится, но выручка уменьшится (или останется такой же) и метрика снизится.\n",
    "\n",
    "Первый вариант - плохой, второй - хороший, поэтому нельзя ответить однозначно, слишком мало данных. \n",
    "\n",
    "Стоит рассчитать arppu за более длительный период или оценить изменения при помощи других метрик."
   ]
  },
  {
   "cell_type": "markdown",
   "id": "50c0809c",
   "metadata": {},
   "source": [
    "<b>2. Вопрос:</b>\n",
    "Предположим, что в результате обновления дизайна продукта вы наблюдаете\n",
    "увеличение среднего времени нахождения пользователей в приложении, но\n",
    "уровень конверсии в покупку снизился. Как вы будете анализировать данное\n",
    "изменение и какие рекомендации вы предложите команде продукта?"
   ]
  },
  {
   "cell_type": "markdown",
   "id": "5b71fca3",
   "metadata": {},
   "source": [
    "<b>Ответ:</b> "
   ]
  },
  {
   "cell_type": "markdown",
   "id": "51827646",
   "metadata": {},
   "source": [
    "Нам понадобится воронка конверсии: с помощью нее мы сможем отследить момент, когда пользователь откалывается и не совершает покупку. \n",
    "\n",
    "Возможно, своими действиями мы изменили привычный алгоритм взаимодействия пользователя с продуктом и (например):\n",
    "- пользователь не может по какой-то причине добавить товар в корзину и оплатить его,\n",
    "- он стал больше времени тратить на изучение описания товара \n",
    "- или испытывает другие трудности, взаимодействуя с сайтом.\n",
    "\n",
    "Рекомендации:\n",
    "- вернуть все, как было и надеятся, что небольшая часть аудитории успела повзаимодействовать с новой версией,\n",
    "- в дальнейшем - тестировать новую версию продукта на небольшой части аудитории."
   ]
  },
  {
   "cell_type": "markdown",
   "id": "cfdeccaa",
   "metadata": {},
   "source": [
    "# Практическая часть:"
   ]
  },
  {
   "cell_type": "markdown",
   "id": "ce9109f6",
   "metadata": {},
   "source": [
    "## Описание задания:"
   ]
  },
  {
   "cell_type": "markdown",
   "id": "0a4f078c",
   "metadata": {},
   "source": [
    "В базе представлены данные об активности пользователей в обучающем игровом приложении. \n",
    "\n",
    "Рассчитайте следующие метрики:\n",
    "- Retention и время, которое ученики проводят в приложении.\n",
    "- Как ученики переходят с уровня на уровень.\n",
    "- Метрики монетизации для всей когорты\n",
    "- Где ученики совершают больше всего платежей?\n",
    "- Где ученики совершают первые платежи?\n",
    "\n",
    "\n",
    "Какие выводы вы можете сделать из расчетов:\n",
    "- Выберете 3-4 метрики, которые следует отслеживать в первую очередь?\n",
    "- Какие еще метрики следует отслеживать?\n",
    "- Какие данные стоит собирать дополнительно к уже собираемым, что бы\n",
    "рассчитать предлагаемые тобою метрики?"
   ]
  },
  {
   "cell_type": "markdown",
   "id": "37e150f6",
   "metadata": {},
   "source": [
    "## Описание данных:"
   ]
  },
  {
   "cell_type": "markdown",
   "id": "b83dcad2",
   "metadata": {},
   "source": [
    "<img src='https://e.radikal.host/2023/06/07/SNIMOK26f12a265a8760df.png' width=600>"
   ]
  },
  {
   "cell_type": "markdown",
   "id": "98ce3c45",
   "metadata": {},
   "source": [
    "## Ход работы:"
   ]
  },
  {
   "cell_type": "markdown",
   "id": "1e36c86f",
   "metadata": {},
   "source": [
    "[1. Импорт библиотек. Загрузка данных. Общая информация.](#import)\n",
    "\n",
    "[2. Расчет метрик.](#metrics)\n",
    "\n",
    "[2.1. Рассчитайте Retention и время, которое ученики проводят в приложении.](#retention)\n",
    "\n",
    "[2.2. Как ученики переходят с уровня на уровень?](#level_to_level)\n",
    "\n",
    "[2.3. Метрики монетизации для всей когорты:](#metrics_cohort)\n",
    "\n",
    "[- ARPU](#arpu)\n",
    "\n",
    "[- LTV](#ltv)\n",
    "\n",
    "[- Churn rate](#churn_rate)\n",
    "\n",
    "[2.4. Где ученики совершают больше всего платежей?](#max_payments)\n",
    "\n",
    "[2.5. Где ученики совершают первые платежи?](#first_payments)\n",
    "\n",
    "[Общий вывод](#conclusion)\n",
    "\n",
    "[Рекомендации - дополнительные метрики](#recommendations)"
   ]
  },
  {
   "cell_type": "markdown",
   "id": "805dfc39",
   "metadata": {},
   "source": [
    "<a id=\"import\"> </a>\n",
    "# 1. Импорт библиотек. Загрузка данных. Общая информация."
   ]
  },
  {
   "cell_type": "code",
   "execution_count": 1,
   "id": "1c6a06fd",
   "metadata": {},
   "outputs": [
    {
     "name": "stdout",
     "output_type": "stream",
     "text": [
      "Requirement already satisfied: pandasql in c:\\users\\kukuevo\\anaconda3\\lib\\site-packages (0.7.3)\n",
      "Requirement already satisfied: pandas in c:\\users\\kukuevo\\anaconda3\\lib\\site-packages (from pandasql) (1.2.4)\n",
      "Requirement already satisfied: sqlalchemy in c:\\users\\kukuevo\\anaconda3\\lib\\site-packages (from pandasql) (1.4.7)\n",
      "Requirement already satisfied: numpy in c:\\users\\kukuevo\\anaconda3\\lib\\site-packages (from pandasql) (1.20.1)\n",
      "Requirement already satisfied: python-dateutil>=2.7.3 in c:\\users\\kukuevo\\anaconda3\\lib\\site-packages (from pandas->pandasql) (2.8.1)\n",
      "Requirement already satisfied: pytz>=2017.3 in c:\\users\\kukuevo\\anaconda3\\lib\\site-packages (from pandas->pandasql) (2021.1)\n",
      "Requirement already satisfied: six>=1.5 in c:\\users\\kukuevo\\anaconda3\\lib\\site-packages (from python-dateutil>=2.7.3->pandas->pandasql) (1.15.0)\n",
      "Requirement already satisfied: greenlet!=0.4.17 in c:\\users\\kukuevo\\anaconda3\\lib\\site-packages (from sqlalchemy->pandasql) (1.0.0)\n"
     ]
    }
   ],
   "source": [
    "! pip install pandasql"
   ]
  },
  {
   "cell_type": "code",
   "execution_count": 2,
   "id": "97a8730c",
   "metadata": {},
   "outputs": [],
   "source": [
    "import pandas as pd\n",
    "import numpy as np\n",
    "\n",
    "import pandasql as ps\n",
    "\n",
    "import matplotlib.pyplot as plt"
   ]
  },
  {
   "cell_type": "code",
   "execution_count": 3,
   "id": "8db7f8a2",
   "metadata": {},
   "outputs": [],
   "source": [
    "# загрузка датафреймов\n",
    "\n",
    "levels = pd.read_csv('levels.csv', index_col=0)\n",
    "\n",
    "payments = pd.read_csv('payments.csv', index_col=0)\n",
    "\n",
    "sessions = pd.read_csv('sessions.csv', index_col=0)\n",
    "\n",
    "users = pd.read_csv('users.csv', index_col=0)"
   ]
  },
  {
   "cell_type": "code",
   "execution_count": 4,
   "id": "5cba2283",
   "metadata": {},
   "outputs": [
    {
     "data": {
      "text/html": [
       "<div>\n",
       "<style scoped>\n",
       "    .dataframe tbody tr th:only-of-type {\n",
       "        vertical-align: middle;\n",
       "    }\n",
       "\n",
       "    .dataframe tbody tr th {\n",
       "        vertical-align: top;\n",
       "    }\n",
       "\n",
       "    .dataframe thead th {\n",
       "        text-align: right;\n",
       "    }\n",
       "</style>\n",
       "<table border=\"1\" class=\"dataframe\">\n",
       "  <thead>\n",
       "    <tr style=\"text-align: right;\">\n",
       "      <th></th>\n",
       "      <th>user_id</th>\n",
       "      <th>time</th>\n",
       "      <th>level</th>\n",
       "    </tr>\n",
       "  </thead>\n",
       "  <tbody>\n",
       "    <tr>\n",
       "      <th>0</th>\n",
       "      <td>105194</td>\n",
       "      <td>2023-05-16 08:22:12.799003</td>\n",
       "      <td>2.0</td>\n",
       "    </tr>\n",
       "    <tr>\n",
       "      <th>1</th>\n",
       "      <td>105194</td>\n",
       "      <td>2023-05-16 08:26:42.405003</td>\n",
       "      <td>3.0</td>\n",
       "    </tr>\n",
       "    <tr>\n",
       "      <th>2</th>\n",
       "      <td>105194</td>\n",
       "      <td>2023-05-16 08:27:12.760003</td>\n",
       "      <td>4.0</td>\n",
       "    </tr>\n",
       "  </tbody>\n",
       "</table>\n",
       "</div>"
      ],
      "text/plain": [
       "   user_id                        time  level\n",
       "0   105194  2023-05-16 08:22:12.799003    2.0\n",
       "1   105194  2023-05-16 08:26:42.405003    3.0\n",
       "2   105194  2023-05-16 08:27:12.760003    4.0"
      ]
     },
     "execution_count": 4,
     "metadata": {},
     "output_type": "execute_result"
    }
   ],
   "source": [
    "# общая информация - датафрейм levels\n",
    "\n",
    "levels.head(3)"
   ]
  },
  {
   "cell_type": "code",
   "execution_count": 5,
   "id": "37b2c813",
   "metadata": {},
   "outputs": [
    {
     "name": "stdout",
     "output_type": "stream",
     "text": [
      "<class 'pandas.core.frame.DataFrame'>\n",
      "Int64Index: 130623 entries, 0 to 130629\n",
      "Data columns (total 3 columns):\n",
      " #   Column   Non-Null Count   Dtype  \n",
      "---  ------   --------------   -----  \n",
      " 0   user_id  130623 non-null  int64  \n",
      " 1   time     130623 non-null  object \n",
      " 2   level    130623 non-null  float64\n",
      "dtypes: float64(1), int64(1), object(1)\n",
      "memory usage: 4.0+ MB\n"
     ]
    }
   ],
   "source": [
    "levels.info()"
   ]
  },
  {
   "cell_type": "code",
   "execution_count": 6,
   "id": "98864334",
   "metadata": {},
   "outputs": [
    {
     "data": {
      "text/html": [
       "<div>\n",
       "<style scoped>\n",
       "    .dataframe tbody tr th:only-of-type {\n",
       "        vertical-align: middle;\n",
       "    }\n",
       "\n",
       "    .dataframe tbody tr th {\n",
       "        vertical-align: top;\n",
       "    }\n",
       "\n",
       "    .dataframe thead th {\n",
       "        text-align: right;\n",
       "    }\n",
       "</style>\n",
       "<table border=\"1\" class=\"dataframe\">\n",
       "  <thead>\n",
       "    <tr style=\"text-align: right;\">\n",
       "      <th></th>\n",
       "      <th>user_id</th>\n",
       "      <th>pay_time</th>\n",
       "      <th>amt</th>\n",
       "    </tr>\n",
       "  </thead>\n",
       "  <tbody>\n",
       "    <tr>\n",
       "      <th>1</th>\n",
       "      <td>107907</td>\n",
       "      <td>2023-05-29 17:08:18.890</td>\n",
       "      <td>0.400218</td>\n",
       "    </tr>\n",
       "    <tr>\n",
       "      <th>2</th>\n",
       "      <td>510991</td>\n",
       "      <td>2023-05-20 16:55:01.216</td>\n",
       "      <td>0.199608</td>\n",
       "    </tr>\n",
       "    <tr>\n",
       "      <th>3</th>\n",
       "      <td>294837</td>\n",
       "      <td>2023-05-19 01:41:55.970</td>\n",
       "      <td>0.199608</td>\n",
       "    </tr>\n",
       "  </tbody>\n",
       "</table>\n",
       "</div>"
      ],
      "text/plain": [
       "   user_id                 pay_time       amt\n",
       "1   107907  2023-05-29 17:08:18.890  0.400218\n",
       "2   510991  2023-05-20 16:55:01.216  0.199608\n",
       "3   294837  2023-05-19 01:41:55.970  0.199608"
      ]
     },
     "execution_count": 6,
     "metadata": {},
     "output_type": "execute_result"
    }
   ],
   "source": [
    "# общая информация - датафрейм payments\n",
    "\n",
    "payments.head(3)"
   ]
  },
  {
   "cell_type": "code",
   "execution_count": 7,
   "id": "548e48c0",
   "metadata": {},
   "outputs": [
    {
     "name": "stdout",
     "output_type": "stream",
     "text": [
      "<class 'pandas.core.frame.DataFrame'>\n",
      "Int64Index: 699 entries, 1 to 699\n",
      "Data columns (total 3 columns):\n",
      " #   Column    Non-Null Count  Dtype  \n",
      "---  ------    --------------  -----  \n",
      " 0   user_id   699 non-null    int64  \n",
      " 1   pay_time  699 non-null    object \n",
      " 2   amt       699 non-null    float64\n",
      "dtypes: float64(1), int64(1), object(1)\n",
      "memory usage: 21.8+ KB\n"
     ]
    }
   ],
   "source": [
    "payments.info()"
   ]
  },
  {
   "cell_type": "code",
   "execution_count": 8,
   "id": "540988d4",
   "metadata": {},
   "outputs": [
    {
     "data": {
      "text/html": [
       "<div>\n",
       "<style scoped>\n",
       "    .dataframe tbody tr th:only-of-type {\n",
       "        vertical-align: middle;\n",
       "    }\n",
       "\n",
       "    .dataframe tbody tr th {\n",
       "        vertical-align: top;\n",
       "    }\n",
       "\n",
       "    .dataframe thead th {\n",
       "        text-align: right;\n",
       "    }\n",
       "</style>\n",
       "<table border=\"1\" class=\"dataframe\">\n",
       "  <thead>\n",
       "    <tr style=\"text-align: right;\">\n",
       "      <th></th>\n",
       "      <th>user_id</th>\n",
       "      <th>close_time</th>\n",
       "      <th>open_time</th>\n",
       "    </tr>\n",
       "  </thead>\n",
       "  <tbody>\n",
       "    <tr>\n",
       "      <th>0</th>\n",
       "      <td>875013</td>\n",
       "      <td>2023-05-16 05:17:59</td>\n",
       "      <td>2023-05-16 05:06:09</td>\n",
       "    </tr>\n",
       "    <tr>\n",
       "      <th>1</th>\n",
       "      <td>138278</td>\n",
       "      <td>2023-05-16 06:48:24</td>\n",
       "      <td>2023-05-16 06:47:34</td>\n",
       "    </tr>\n",
       "    <tr>\n",
       "      <th>2</th>\n",
       "      <td>138278</td>\n",
       "      <td>2023-05-18 01:44:40</td>\n",
       "      <td>2023-05-18 01:07:58</td>\n",
       "    </tr>\n",
       "  </tbody>\n",
       "</table>\n",
       "</div>"
      ],
      "text/plain": [
       "   user_id           close_time            open_time\n",
       "0   875013  2023-05-16 05:17:59  2023-05-16 05:06:09\n",
       "1   138278  2023-05-16 06:48:24  2023-05-16 06:47:34\n",
       "2   138278  2023-05-18 01:44:40  2023-05-18 01:07:58"
      ]
     },
     "execution_count": 8,
     "metadata": {},
     "output_type": "execute_result"
    }
   ],
   "source": [
    "# общая информация - датафрейм sessions\n",
    "\n",
    "sessions.head(3)"
   ]
  },
  {
   "cell_type": "code",
   "execution_count": 9,
   "id": "77d64fde",
   "metadata": {},
   "outputs": [
    {
     "name": "stdout",
     "output_type": "stream",
     "text": [
      "<class 'pandas.core.frame.DataFrame'>\n",
      "Int64Index: 358004 entries, 0 to 358033\n",
      "Data columns (total 3 columns):\n",
      " #   Column      Non-Null Count   Dtype \n",
      "---  ------      --------------   ----- \n",
      " 0   user_id     358004 non-null  int64 \n",
      " 1   close_time  358004 non-null  object\n",
      " 2   open_time   358004 non-null  object\n",
      "dtypes: int64(1), object(2)\n",
      "memory usage: 10.9+ MB\n"
     ]
    }
   ],
   "source": [
    "sessions.info()"
   ]
  },
  {
   "cell_type": "code",
   "execution_count": 10,
   "id": "bcc54cc5",
   "metadata": {},
   "outputs": [
    {
     "data": {
      "text/html": [
       "<div>\n",
       "<style scoped>\n",
       "    .dataframe tbody tr th:only-of-type {\n",
       "        vertical-align: middle;\n",
       "    }\n",
       "\n",
       "    .dataframe tbody tr th {\n",
       "        vertical-align: top;\n",
       "    }\n",
       "\n",
       "    .dataframe thead th {\n",
       "        text-align: right;\n",
       "    }\n",
       "</style>\n",
       "<table border=\"1\" class=\"dataframe\">\n",
       "  <thead>\n",
       "    <tr style=\"text-align: right;\">\n",
       "      <th></th>\n",
       "      <th>user_id</th>\n",
       "      <th>reg_time</th>\n",
       "    </tr>\n",
       "  </thead>\n",
       "  <tbody>\n",
       "    <tr>\n",
       "      <th>0</th>\n",
       "      <td>439127</td>\n",
       "      <td>2023-05-16 15:47:56.024</td>\n",
       "    </tr>\n",
       "    <tr>\n",
       "      <th>1</th>\n",
       "      <td>646681</td>\n",
       "      <td>2023-05-16 16:32:35.495</td>\n",
       "    </tr>\n",
       "    <tr>\n",
       "      <th>2</th>\n",
       "      <td>35136</td>\n",
       "      <td>2023-05-16 16:50:14.571</td>\n",
       "    </tr>\n",
       "  </tbody>\n",
       "</table>\n",
       "</div>"
      ],
      "text/plain": [
       "   user_id                 reg_time\n",
       "0   439127  2023-05-16 15:47:56.024\n",
       "1   646681  2023-05-16 16:32:35.495\n",
       "2    35136  2023-05-16 16:50:14.571"
      ]
     },
     "execution_count": 10,
     "metadata": {},
     "output_type": "execute_result"
    }
   ],
   "source": [
    "# общая информация - датафрейм users\n",
    "\n",
    "users.head(3)"
   ]
  },
  {
   "cell_type": "code",
   "execution_count": 11,
   "id": "cb35bb7a",
   "metadata": {},
   "outputs": [
    {
     "name": "stdout",
     "output_type": "stream",
     "text": [
      "<class 'pandas.core.frame.DataFrame'>\n",
      "Int64Index: 31114 entries, 0 to 31114\n",
      "Data columns (total 2 columns):\n",
      " #   Column    Non-Null Count  Dtype \n",
      "---  ------    --------------  ----- \n",
      " 0   user_id   31114 non-null  int64 \n",
      " 1   reg_time  31114 non-null  object\n",
      "dtypes: int64(1), object(1)\n",
      "memory usage: 729.2+ KB\n"
     ]
    }
   ],
   "source": [
    "users.info()"
   ]
  },
  {
   "cell_type": "code",
   "execution_count": 12,
   "id": "45eb137e",
   "metadata": {},
   "outputs": [
    {
     "name": "stdout",
     "output_type": "stream",
     "text": [
      "levels - явные дубликаты: 0 неявные дубликаты: 0\n",
      "payments - явные дубликаты: 0 неявные дубликаты: 0\n",
      "sessions - явные дубликаты: 0 неявные дубликаты: 0\n",
      "users - явные дубликаты: 0 неявные дубликаты: 0\n"
     ]
    }
   ],
   "source": [
    "# проверка на явные и неявные дубликаты\n",
    "\n",
    "print('levels - явные дубликаты:', levels.duplicated().sum(),\n",
    "    'неявные дубликаты:', levels[levels.duplicated(keep=False)].shape[0])\n",
    "\n",
    "\n",
    "print('payments - явные дубликаты:', payments.duplicated().sum(), \n",
    "    'неявные дубликаты:', payments[payments.duplicated(keep=False)].shape[0])\n",
    "\n",
    "\n",
    "print('sessions - явные дубликаты:', sessions.duplicated().sum(),\n",
    "    'неявные дубликаты:', sessions[sessions.duplicated(keep=False)].shape[0])\n",
    "\n",
    "\n",
    "print('users - явные дубликаты:', users.duplicated().sum(),\n",
    "    'неявные дубликаты:', users[users.duplicated(keep=False)].shape[0])"
   ]
  },
  {
   "cell_type": "code",
   "execution_count": 13,
   "id": "aebdad94",
   "metadata": {},
   "outputs": [],
   "source": [
    "levels = levels.drop_duplicates()\n",
    "\n",
    "payments = payments.drop_duplicates()\n",
    "\n",
    "sessions = sessions.drop_duplicates()\n",
    "\n",
    "users = users.drop_duplicates()"
   ]
  },
  {
   "cell_type": "markdown",
   "id": "339cefd1",
   "metadata": {},
   "source": [
    "В нашем распоряжении четыре датафрейма:\n",
    "- датафрейм levels - 130  623 строк,\n",
    "\n",
    "- датафрейм payments - 699 строк,\n",
    "\n",
    "- датафрейм sessions - 358 004 строк,\n",
    "\n",
    "- датафрейм users - 31 114 строк.\n",
    "\n",
    "В каждом из них:\n",
    "- по 3 столбца,\n",
    "- пропущенных значений - нет,\n",
    "- явных и неявных дубликатов - нет.\n"
   ]
  },
  {
   "cell_type": "markdown",
   "id": "8fefd8a0",
   "metadata": {},
   "source": [
    "<a id=\"metrics\"> </a>\n",
    "\n",
    "# 2. Расчет метрик."
   ]
  },
  {
   "cell_type": "code",
   "execution_count": 14,
   "id": "300d8dd0",
   "metadata": {},
   "outputs": [
    {
     "data": {
      "text/plain": [
       "min    2023-05-11 02:01:36.784\n",
       "max    2023-05-21 01:58:09.459\n",
       "Name: reg_time, dtype: object"
      ]
     },
     "execution_count": 14,
     "metadata": {},
     "output_type": "execute_result"
    }
   ],
   "source": [
    "# минимальные и максимальные значения времени в users['reg_time']\n",
    "\n",
    "users['reg_time'].agg(['min', 'max'])"
   ]
  },
  {
   "cell_type": "code",
   "execution_count": 15,
   "id": "6e183d27",
   "metadata": {},
   "outputs": [
    {
     "data": {
      "text/plain": [
       "min    2023-05-12 11:01:31.670\n",
       "max    2023-05-30 04:11:03.590\n",
       "Name: pay_time, dtype: object"
      ]
     },
     "execution_count": 15,
     "metadata": {},
     "output_type": "execute_result"
    }
   ],
   "source": [
    "# минимальные и максимальные значения времени в payments['pay_time']\n",
    "\n",
    "payments['pay_time'].agg(['min', 'max'])"
   ]
  },
  {
   "cell_type": "code",
   "execution_count": 16,
   "id": "c97272df",
   "metadata": {},
   "outputs": [
    {
     "data": {
      "text/html": [
       "<div>\n",
       "<style scoped>\n",
       "    .dataframe tbody tr th:only-of-type {\n",
       "        vertical-align: middle;\n",
       "    }\n",
       "\n",
       "    .dataframe tbody tr th {\n",
       "        vertical-align: top;\n",
       "    }\n",
       "\n",
       "    .dataframe thead th {\n",
       "        text-align: right;\n",
       "    }\n",
       "</style>\n",
       "<table border=\"1\" class=\"dataframe\">\n",
       "  <thead>\n",
       "    <tr style=\"text-align: right;\">\n",
       "      <th></th>\n",
       "      <th>open_time</th>\n",
       "      <th>close_time</th>\n",
       "    </tr>\n",
       "  </thead>\n",
       "  <tbody>\n",
       "    <tr>\n",
       "      <th>min</th>\n",
       "      <td>2023-05-11 02:01:37</td>\n",
       "      <td>2023-05-11 02:05:06</td>\n",
       "    </tr>\n",
       "    <tr>\n",
       "      <th>max</th>\n",
       "      <td>2023-05-30 17:09:26</td>\n",
       "      <td>2023-05-30 17:18:17</td>\n",
       "    </tr>\n",
       "  </tbody>\n",
       "</table>\n",
       "</div>"
      ],
      "text/plain": [
       "               open_time           close_time\n",
       "min  2023-05-11 02:01:37  2023-05-11 02:05:06\n",
       "max  2023-05-30 17:09:26  2023-05-30 17:18:17"
      ]
     },
     "execution_count": 16,
     "metadata": {},
     "output_type": "execute_result"
    }
   ],
   "source": [
    "# минимальные и максимальные значения времени в sessions['open_time'] и sessions['close_time']\n",
    "\n",
    "sessions[['open_time', 'close_time']].agg(['min', 'max'])"
   ]
  },
  {
   "cell_type": "code",
   "execution_count": 17,
   "id": "1fd1e772",
   "metadata": {},
   "outputs": [],
   "source": [
    "sessions['open_date'] = pd.to_datetime(sessions['open_time']).dt.date\n",
    "sessions['close_date'] = pd.to_datetime(sessions['close_time']).dt.date"
   ]
  },
  {
   "cell_type": "code",
   "execution_count": 18,
   "id": "dff16f17",
   "metadata": {},
   "outputs": [
    {
     "data": {
      "text/plain": [
       "2640"
      ]
     },
     "execution_count": 18,
     "metadata": {},
     "output_type": "execute_result"
    }
   ],
   "source": [
    "# количество сессий, не закрытых в тот же день\n",
    "\n",
    "sessions[sessions['open_date'] != sessions['close_date']].shape[0]"
   ]
  },
  {
   "cell_type": "markdown",
   "id": "77fd6585",
   "metadata": {},
   "source": [
    "<a id=\"retention\"> </a>\n",
    "# 2.1. Рассчитайте Retention и время, которое ученики проводят в приложении."
   ]
  },
  {
   "cell_type": "code",
   "execution_count": 19,
   "id": "9da7fe57",
   "metadata": {},
   "outputs": [],
   "source": [
    "users['reg_date'] = pd.to_datetime(users['reg_time']).dt.date"
   ]
  },
  {
   "cell_type": "code",
   "execution_count": 22,
   "id": "561e351c",
   "metadata": {},
   "outputs": [
    {
     "data": {
      "text/html": [
       "<div>\n",
       "<style scoped>\n",
       "    .dataframe tbody tr th:only-of-type {\n",
       "        vertical-align: middle;\n",
       "    }\n",
       "\n",
       "    .dataframe tbody tr th {\n",
       "        vertical-align: top;\n",
       "    }\n",
       "\n",
       "    .dataframe thead th {\n",
       "        text-align: right;\n",
       "    }\n",
       "</style>\n",
       "<table border=\"1\" class=\"dataframe\">\n",
       "  <thead>\n",
       "    <tr style=\"text-align: right;\">\n",
       "      <th></th>\n",
       "      <th>user_id</th>\n",
       "      <th>reg_time</th>\n",
       "      <th>reg_date</th>\n",
       "      <th>close_time</th>\n",
       "      <th>open_time</th>\n",
       "      <th>open_date</th>\n",
       "      <th>close_date</th>\n",
       "    </tr>\n",
       "  </thead>\n",
       "  <tbody>\n",
       "    <tr>\n",
       "      <th>0</th>\n",
       "      <td>439127</td>\n",
       "      <td>2023-05-16 15:47:56.024</td>\n",
       "      <td>2023-05-16</td>\n",
       "      <td>2023-05-16 16:55:15</td>\n",
       "      <td>2023-05-16 15:47:56</td>\n",
       "      <td>2023-05-16</td>\n",
       "      <td>2023-05-16</td>\n",
       "    </tr>\n",
       "    <tr>\n",
       "      <th>1</th>\n",
       "      <td>439127</td>\n",
       "      <td>2023-05-16 15:47:56.024</td>\n",
       "      <td>2023-05-16</td>\n",
       "      <td>2023-05-17 02:52:27</td>\n",
       "      <td>2023-05-17 02:16:58</td>\n",
       "      <td>2023-05-17</td>\n",
       "      <td>2023-05-17</td>\n",
       "    </tr>\n",
       "    <tr>\n",
       "      <th>2</th>\n",
       "      <td>439127</td>\n",
       "      <td>2023-05-16 15:47:56.024</td>\n",
       "      <td>2023-05-16</td>\n",
       "      <td>2023-05-17 03:35:25</td>\n",
       "      <td>2023-05-17 03:18:01</td>\n",
       "      <td>2023-05-17</td>\n",
       "      <td>2023-05-17</td>\n",
       "    </tr>\n",
       "    <tr>\n",
       "      <th>3</th>\n",
       "      <td>439127</td>\n",
       "      <td>2023-05-16 15:47:56.024</td>\n",
       "      <td>2023-05-16</td>\n",
       "      <td>2023-05-17 04:40:43</td>\n",
       "      <td>2023-05-17 04:25:57</td>\n",
       "      <td>2023-05-17</td>\n",
       "      <td>2023-05-17</td>\n",
       "    </tr>\n",
       "    <tr>\n",
       "      <th>4</th>\n",
       "      <td>439127</td>\n",
       "      <td>2023-05-16 15:47:56.024</td>\n",
       "      <td>2023-05-16</td>\n",
       "      <td>2023-05-17 10:33:00</td>\n",
       "      <td>2023-05-17 10:22:22</td>\n",
       "      <td>2023-05-17</td>\n",
       "      <td>2023-05-17</td>\n",
       "    </tr>\n",
       "  </tbody>\n",
       "</table>\n",
       "</div>"
      ],
      "text/plain": [
       "   user_id                 reg_time    reg_date           close_time  \\\n",
       "0   439127  2023-05-16 15:47:56.024  2023-05-16  2023-05-16 16:55:15   \n",
       "1   439127  2023-05-16 15:47:56.024  2023-05-16  2023-05-17 02:52:27   \n",
       "2   439127  2023-05-16 15:47:56.024  2023-05-16  2023-05-17 03:35:25   \n",
       "3   439127  2023-05-16 15:47:56.024  2023-05-16  2023-05-17 04:40:43   \n",
       "4   439127  2023-05-16 15:47:56.024  2023-05-16  2023-05-17 10:33:00   \n",
       "\n",
       "             open_time   open_date  close_date  \n",
       "0  2023-05-16 15:47:56  2023-05-16  2023-05-16  \n",
       "1  2023-05-17 02:16:58  2023-05-17  2023-05-17  \n",
       "2  2023-05-17 03:18:01  2023-05-17  2023-05-17  \n",
       "3  2023-05-17 04:25:57  2023-05-17  2023-05-17  \n",
       "4  2023-05-17 10:22:22  2023-05-17  2023-05-17  "
      ]
     },
     "execution_count": 22,
     "metadata": {},
     "output_type": "execute_result"
    }
   ],
   "source": [
    "users_sessions = users.merge(sessions, on='user_id', how='left')\n",
    "users_sessions.head(5)"
   ]
  },
  {
   "cell_type": "code",
   "execution_count": 23,
   "id": "fa3eb092",
   "metadata": {},
   "outputs": [],
   "source": [
    "users_sessions['life_time'] = (users_sessions['open_date'] - users_sessions['reg_date']).dt.days"
   ]
  },
  {
   "cell_type": "code",
   "execution_count": 24,
   "id": "e784f5b5",
   "metadata": {},
   "outputs": [],
   "source": [
    "users_sessions = users_sessions[users_sessions['life_time'] != -1]"
   ]
  },
  {
   "cell_type": "code",
   "execution_count": 55,
   "id": "db6ba520",
   "metadata": {},
   "outputs": [],
   "source": [
    "first_session = users_sessions.groupby(['user_id', 'life_time']).first().reset_index()"
   ]
  },
  {
   "cell_type": "code",
   "execution_count": 59,
   "id": "2ee2e705",
   "metadata": {},
   "outputs": [
    {
     "data": {
      "text/html": [
       "<div>\n",
       "<style scoped>\n",
       "    .dataframe tbody tr th:only-of-type {\n",
       "        vertical-align: middle;\n",
       "    }\n",
       "\n",
       "    .dataframe tbody tr th {\n",
       "        vertical-align: top;\n",
       "    }\n",
       "\n",
       "    .dataframe thead th {\n",
       "        text-align: right;\n",
       "    }\n",
       "</style>\n",
       "<table border=\"1\" class=\"dataframe\">\n",
       "  <thead>\n",
       "    <tr style=\"text-align: right;\">\n",
       "      <th>life_time</th>\n",
       "      <th>0.0</th>\n",
       "      <th>1.0</th>\n",
       "      <th>2.0</th>\n",
       "      <th>3.0</th>\n",
       "      <th>4.0</th>\n",
       "      <th>5.0</th>\n",
       "      <th>6.0</th>\n",
       "      <th>7.0</th>\n",
       "      <th>8.0</th>\n",
       "      <th>9.0</th>\n",
       "      <th>10.0</th>\n",
       "    </tr>\n",
       "    <tr>\n",
       "      <th>reg_date</th>\n",
       "      <th></th>\n",
       "      <th></th>\n",
       "      <th></th>\n",
       "      <th></th>\n",
       "      <th></th>\n",
       "      <th></th>\n",
       "      <th></th>\n",
       "      <th></th>\n",
       "      <th></th>\n",
       "      <th></th>\n",
       "      <th></th>\n",
       "    </tr>\n",
       "  </thead>\n",
       "  <tbody>\n",
       "    <tr>\n",
       "      <th>2023-05-11</th>\n",
       "      <td>100.0</td>\n",
       "      <td>45.24</td>\n",
       "      <td>36.89</td>\n",
       "      <td>30.26</td>\n",
       "      <td>26.51</td>\n",
       "      <td>22.77</td>\n",
       "      <td>23.92</td>\n",
       "      <td>24.21</td>\n",
       "      <td>21.04</td>\n",
       "      <td>18.73</td>\n",
       "      <td>5.76</td>\n",
       "    </tr>\n",
       "    <tr>\n",
       "      <th>2023-05-12</th>\n",
       "      <td>100.0</td>\n",
       "      <td>44.25</td>\n",
       "      <td>34.72</td>\n",
       "      <td>28.85</td>\n",
       "      <td>22.25</td>\n",
       "      <td>23.23</td>\n",
       "      <td>22.00</td>\n",
       "      <td>20.78</td>\n",
       "      <td>18.58</td>\n",
       "      <td>15.65</td>\n",
       "      <td>6.85</td>\n",
       "    </tr>\n",
       "    <tr>\n",
       "      <th>2023-05-13</th>\n",
       "      <td>100.0</td>\n",
       "      <td>40.73</td>\n",
       "      <td>30.73</td>\n",
       "      <td>26.91</td>\n",
       "      <td>23.64</td>\n",
       "      <td>20.73</td>\n",
       "      <td>20.18</td>\n",
       "      <td>18.00</td>\n",
       "      <td>18.00</td>\n",
       "      <td>16.18</td>\n",
       "      <td>6.00</td>\n",
       "    </tr>\n",
       "    <tr>\n",
       "      <th>2023-05-14</th>\n",
       "      <td>100.0</td>\n",
       "      <td>30.78</td>\n",
       "      <td>21.71</td>\n",
       "      <td>20.13</td>\n",
       "      <td>17.55</td>\n",
       "      <td>16.47</td>\n",
       "      <td>15.89</td>\n",
       "      <td>15.81</td>\n",
       "      <td>12.48</td>\n",
       "      <td>11.90</td>\n",
       "      <td>4.49</td>\n",
       "    </tr>\n",
       "    <tr>\n",
       "      <th>2023-05-15</th>\n",
       "      <td>100.0</td>\n",
       "      <td>34.80</td>\n",
       "      <td>25.72</td>\n",
       "      <td>21.80</td>\n",
       "      <td>18.86</td>\n",
       "      <td>17.54</td>\n",
       "      <td>16.26</td>\n",
       "      <td>15.22</td>\n",
       "      <td>14.34</td>\n",
       "      <td>13.64</td>\n",
       "      <td>7.43</td>\n",
       "    </tr>\n",
       "    <tr>\n",
       "      <th>2023-05-16</th>\n",
       "      <td>100.0</td>\n",
       "      <td>32.85</td>\n",
       "      <td>24.06</td>\n",
       "      <td>20.49</td>\n",
       "      <td>18.27</td>\n",
       "      <td>16.27</td>\n",
       "      <td>15.19</td>\n",
       "      <td>14.50</td>\n",
       "      <td>14.18</td>\n",
       "      <td>13.33</td>\n",
       "      <td>3.74</td>\n",
       "    </tr>\n",
       "    <tr>\n",
       "      <th>2023-05-17</th>\n",
       "      <td>100.0</td>\n",
       "      <td>47.44</td>\n",
       "      <td>36.57</td>\n",
       "      <td>31.29</td>\n",
       "      <td>27.89</td>\n",
       "      <td>25.66</td>\n",
       "      <td>23.57</td>\n",
       "      <td>23.02</td>\n",
       "      <td>21.49</td>\n",
       "      <td>20.22</td>\n",
       "      <td>7.21</td>\n",
       "    </tr>\n",
       "    <tr>\n",
       "      <th>2023-05-18</th>\n",
       "      <td>100.0</td>\n",
       "      <td>50.97</td>\n",
       "      <td>40.26</td>\n",
       "      <td>35.47</td>\n",
       "      <td>31.00</td>\n",
       "      <td>28.06</td>\n",
       "      <td>26.54</td>\n",
       "      <td>25.88</td>\n",
       "      <td>24.73</td>\n",
       "      <td>22.44</td>\n",
       "      <td>3.59</td>\n",
       "    </tr>\n",
       "    <tr>\n",
       "      <th>2023-05-19</th>\n",
       "      <td>100.0</td>\n",
       "      <td>45.85</td>\n",
       "      <td>37.19</td>\n",
       "      <td>32.36</td>\n",
       "      <td>28.16</td>\n",
       "      <td>28.40</td>\n",
       "      <td>26.05</td>\n",
       "      <td>25.12</td>\n",
       "      <td>22.22</td>\n",
       "      <td>20.73</td>\n",
       "      <td>8.04</td>\n",
       "    </tr>\n",
       "    <tr>\n",
       "      <th>2023-05-20</th>\n",
       "      <td>100.0</td>\n",
       "      <td>46.40</td>\n",
       "      <td>34.93</td>\n",
       "      <td>29.19</td>\n",
       "      <td>27.39</td>\n",
       "      <td>25.31</td>\n",
       "      <td>23.79</td>\n",
       "      <td>22.38</td>\n",
       "      <td>21.26</td>\n",
       "      <td>20.30</td>\n",
       "      <td>6.30</td>\n",
       "    </tr>\n",
       "    <tr>\n",
       "      <th>2023-05-21</th>\n",
       "      <td>100.0</td>\n",
       "      <td>45.80</td>\n",
       "      <td>41.98</td>\n",
       "      <td>35.88</td>\n",
       "      <td>32.82</td>\n",
       "      <td>31.30</td>\n",
       "      <td>30.53</td>\n",
       "      <td>25.19</td>\n",
       "      <td>23.66</td>\n",
       "      <td>21.37</td>\n",
       "      <td>0.00</td>\n",
       "    </tr>\n",
       "  </tbody>\n",
       "</table>\n",
       "</div>"
      ],
      "text/plain": [
       "life_time    0.0    1.0    2.0    3.0    4.0    5.0    6.0    7.0    8.0   \\\n",
       "reg_date                                                                    \n",
       "2023-05-11  100.0  45.24  36.89  30.26  26.51  22.77  23.92  24.21  21.04   \n",
       "2023-05-12  100.0  44.25  34.72  28.85  22.25  23.23  22.00  20.78  18.58   \n",
       "2023-05-13  100.0  40.73  30.73  26.91  23.64  20.73  20.18  18.00  18.00   \n",
       "2023-05-14  100.0  30.78  21.71  20.13  17.55  16.47  15.89  15.81  12.48   \n",
       "2023-05-15  100.0  34.80  25.72  21.80  18.86  17.54  16.26  15.22  14.34   \n",
       "2023-05-16  100.0  32.85  24.06  20.49  18.27  16.27  15.19  14.50  14.18   \n",
       "2023-05-17  100.0  47.44  36.57  31.29  27.89  25.66  23.57  23.02  21.49   \n",
       "2023-05-18  100.0  50.97  40.26  35.47  31.00  28.06  26.54  25.88  24.73   \n",
       "2023-05-19  100.0  45.85  37.19  32.36  28.16  28.40  26.05  25.12  22.22   \n",
       "2023-05-20  100.0  46.40  34.93  29.19  27.39  25.31  23.79  22.38  21.26   \n",
       "2023-05-21  100.0  45.80  41.98  35.88  32.82  31.30  30.53  25.19  23.66   \n",
       "\n",
       "life_time    9.0   10.0  \n",
       "reg_date                 \n",
       "2023-05-11  18.73  5.76  \n",
       "2023-05-12  15.65  6.85  \n",
       "2023-05-13  16.18  6.00  \n",
       "2023-05-14  11.90  4.49  \n",
       "2023-05-15  13.64  7.43  \n",
       "2023-05-16  13.33  3.74  \n",
       "2023-05-17  20.22  7.21  \n",
       "2023-05-18  22.44  3.59  \n",
       "2023-05-19  20.73  8.04  \n",
       "2023-05-20  20.30  6.30  \n",
       "2023-05-21  21.37  0.00  "
      ]
     },
     "execution_count": 59,
     "metadata": {},
     "output_type": "execute_result"
    }
   ],
   "source": [
    "# посчитаем retention в процентах\n",
    "\n",
    "retention = pd.crosstab(first_session['reg_date'], first_session['life_time'])\\\n",
    "              .apply(lambda x: round(x / x[0] * 100, 2), axis=1)\n",
    "\n",
    "retention"
   ]
  },
  {
   "cell_type": "code",
   "execution_count": 60,
   "id": "019d1f7e",
   "metadata": {},
   "outputs": [],
   "source": [
    "users_sessions['close_time'] = pd.to_datetime(users_sessions['close_time'])\n",
    "users_sessions['open_time'] = pd.to_datetime(users_sessions['open_time'])"
   ]
  },
  {
   "cell_type": "code",
   "execution_count": 61,
   "id": "5e79596e",
   "metadata": {},
   "outputs": [],
   "source": [
    "# разница в минутах между началом и концом сессии, округленная до 2 знаков\n",
    "\n",
    "users_sessions['session_minutes'] = round((users_sessions['close_time'] - \n",
    "                                           users_sessions['open_time']).dt.total_seconds() / 60,2)"
   ]
  },
  {
   "cell_type": "code",
   "execution_count": 62,
   "id": "4069b406",
   "metadata": {},
   "outputs": [
    {
     "data": {
      "text/plain": [
       "count    358003.000000\n",
       "mean         12.510369\n",
       "std          19.519481\n",
       "min           0.000000\n",
       "25%           2.600000\n",
       "50%           6.980000\n",
       "75%          15.330000\n",
       "max        1365.270000\n",
       "Name: session_minutes, dtype: float64"
      ]
     },
     "execution_count": 62,
     "metadata": {},
     "output_type": "execute_result"
    }
   ],
   "source": [
    "users_sessions['session_minutes'].describe()"
   ]
  },
  {
   "cell_type": "code",
   "execution_count": 63,
   "id": "08fdd719",
   "metadata": {},
   "outputs": [
    {
     "data": {
      "text/plain": [
       "41.83"
      ]
     },
     "execution_count": 63,
     "metadata": {},
     "output_type": "execute_result"
    }
   ],
   "source": [
    "users_sessions['session_minutes'].quantile(q=0.95)"
   ]
  },
  {
   "cell_type": "code",
   "execution_count": 64,
   "id": "20b38bca",
   "metadata": {},
   "outputs": [
    {
     "data": {
      "image/png": "[encoded data removed]",
      "text/plain": [
       "<Figure size 432x288 with 1 Axes>"
      ]
     },
     "metadata": {
      "needs_background": "light"
     },
     "output_type": "display_data"
    }
   ],
   "source": [
    "users_sessions[users_sessions['session_minutes'] <= 25]['session_minutes'].hist(bins=100);"
   ]
  },
  {
   "cell_type": "markdown",
   "id": "3555fe87",
   "metadata": {},
   "source": [
    "В группах от 16 и 18 мая самый высокий процент удержания на 10 день.\n",
    "\n",
    "Среднее время пребывания в прилолжении - ~ 7 минут.\n",
    "\n",
    "В имеющихся данных есть аномально длинные сессии (до 1 365 минут), 5% сессий длилось больше 42 минут. Сессий не закрытых в течении того же дня - 2 640.\n",
    "\n",
    "Возможно, приложение не разлогинивает пользователя автоматически без активности и продолжает работать в фоновом режиме."
   ]
  },
  {
   "cell_type": "markdown",
   "id": "6cfdb897",
   "metadata": {},
   "source": [
    "<a id=\"level_to_level\"> </a>\n",
    "# 2.2. Как ученики переходят с уровня на уровень?"
   ]
  },
  {
   "cell_type": "code",
   "execution_count": 65,
   "id": "a4847c04",
   "metadata": {},
   "outputs": [],
   "source": [
    "levels['time'] = pd.to_datetime(levels['time'])"
   ]
  },
  {
   "cell_type": "code",
   "execution_count": 66,
   "id": "1312168c",
   "metadata": {},
   "outputs": [],
   "source": [
    "levels = levels.sort_values(['user_id', 'time', 'level'])"
   ]
  },
  {
   "cell_type": "code",
   "execution_count": 88,
   "id": "8938c80e",
   "metadata": {},
   "outputs": [],
   "source": [
    "# получим данные о моменте получения предыдущих уровней\n",
    "# и разницу во времени между текущим уровнем и предыдущим\n",
    "\n",
    "sql_query = '''with t as(SELECT *, \n",
    "                LEAD (time) OVER (PARTITION BY user_id ORDER BY time) as time_next_level,\n",
    "                LAG (time) OVER (PARTITION BY user_id ORDER BY time) as time_previous_level\n",
    "                FROM levels)\n",
    "                \n",
    "                SELECT *,\n",
    "                (strftime('%s',time) - strftime('%s',time_previous_level)) / 60 as time_diff_minutes\n",
    "                FROM t'''"
   ]
  },
  {
   "cell_type": "code",
   "execution_count": 89,
   "id": "126ee852",
   "metadata": {},
   "outputs": [
    {
     "data": {
      "text/html": [
       "<div>\n",
       "<style scoped>\n",
       "    .dataframe tbody tr th:only-of-type {\n",
       "        vertical-align: middle;\n",
       "    }\n",
       "\n",
       "    .dataframe tbody tr th {\n",
       "        vertical-align: top;\n",
       "    }\n",
       "\n",
       "    .dataframe thead th {\n",
       "        text-align: right;\n",
       "    }\n",
       "</style>\n",
       "<table border=\"1\" class=\"dataframe\">\n",
       "  <thead>\n",
       "    <tr style=\"text-align: right;\">\n",
       "      <th></th>\n",
       "      <th>user_id</th>\n",
       "      <th>time</th>\n",
       "      <th>level</th>\n",
       "      <th>time_next_level</th>\n",
       "      <th>time_previous_level</th>\n",
       "      <th>time_diff_minutes</th>\n",
       "    </tr>\n",
       "  </thead>\n",
       "  <tbody>\n",
       "    <tr>\n",
       "      <th>0</th>\n",
       "      <td>58</td>\n",
       "      <td>2023-05-16 08:35:01.126003</td>\n",
       "      <td>2.0</td>\n",
       "      <td>2023-05-16 08:40:21.106003</td>\n",
       "      <td>None</td>\n",
       "      <td>NaN</td>\n",
       "    </tr>\n",
       "    <tr>\n",
       "      <th>1</th>\n",
       "      <td>58</td>\n",
       "      <td>2023-05-16 08:40:21.106003</td>\n",
       "      <td>3.0</td>\n",
       "      <td>None</td>\n",
       "      <td>2023-05-16 08:35:01.126003</td>\n",
       "      <td>5.0</td>\n",
       "    </tr>\n",
       "    <tr>\n",
       "      <th>2</th>\n",
       "      <td>95</td>\n",
       "      <td>2023-05-16 21:14:37.314003</td>\n",
       "      <td>2.0</td>\n",
       "      <td>None</td>\n",
       "      <td>None</td>\n",
       "      <td>NaN</td>\n",
       "    </tr>\n",
       "    <tr>\n",
       "      <th>3</th>\n",
       "      <td>109</td>\n",
       "      <td>2023-05-16 04:42:03.809003</td>\n",
       "      <td>2.0</td>\n",
       "      <td>2023-05-16 04:44:28.997001</td>\n",
       "      <td>None</td>\n",
       "      <td>NaN</td>\n",
       "    </tr>\n",
       "    <tr>\n",
       "      <th>4</th>\n",
       "      <td>109</td>\n",
       "      <td>2023-05-16 04:44:28.997001</td>\n",
       "      <td>3.0</td>\n",
       "      <td>None</td>\n",
       "      <td>2023-05-16 04:42:03.809003</td>\n",
       "      <td>2.0</td>\n",
       "    </tr>\n",
       "  </tbody>\n",
       "</table>\n",
       "</div>"
      ],
      "text/plain": [
       "   user_id                        time  level             time_next_level  \\\n",
       "0       58  2023-05-16 08:35:01.126003    2.0  2023-05-16 08:40:21.106003   \n",
       "1       58  2023-05-16 08:40:21.106003    3.0                        None   \n",
       "2       95  2023-05-16 21:14:37.314003    2.0                        None   \n",
       "3      109  2023-05-16 04:42:03.809003    2.0  2023-05-16 04:44:28.997001   \n",
       "4      109  2023-05-16 04:44:28.997001    3.0                        None   \n",
       "\n",
       "          time_previous_level  time_diff_minutes  \n",
       "0                        None                NaN  \n",
       "1  2023-05-16 08:35:01.126003                5.0  \n",
       "2                        None                NaN  \n",
       "3                        None                NaN  \n",
       "4  2023-05-16 04:42:03.809003                2.0  "
      ]
     },
     "execution_count": 89,
     "metadata": {},
     "output_type": "execute_result"
    }
   ],
   "source": [
    "levels_time_diff = ps.sqldf(sql_query)\n",
    "\n",
    "levels_time_diff.head(5)"
   ]
  },
  {
   "cell_type": "markdown",
   "id": "84c46685",
   "metadata": {},
   "source": [
    "В столбце time_diff_minutes хранится время в минутах, характеризующееся сколько времени пользователю понадобилось для перехода на текущий уровень."
   ]
  },
  {
   "cell_type": "code",
   "execution_count": 90,
   "id": "6536e98e",
   "metadata": {},
   "outputs": [
    {
     "data": {
      "text/plain": [
       "median     12.000000\n",
       "mean      745.211053\n",
       "Name: time_diff_minutes, dtype: float64"
      ]
     },
     "execution_count": 90,
     "metadata": {},
     "output_type": "execute_result"
    }
   ],
   "source": [
    "levels_time_diff['time_diff_minutes'].agg(['median', 'mean'])"
   ]
  },
  {
   "cell_type": "code",
   "execution_count": 91,
   "id": "7eb55c6d",
   "metadata": {},
   "outputs": [],
   "source": [
    "# построим сводные таблицы, в которых хранится среднее и медианное время, пребывания на уровне\n",
    "\n",
    "levels_time_diff_groupby = levels_time_diff.groupby('level')['time_diff_minutes'].agg(['median', 'mean']).reset_index()\n",
    "\n",
    "levels_time_diff_groupby['level'] = levels_time_diff_groupby['level'].astype('int').astype('str')"
   ]
  },
  {
   "cell_type": "code",
   "execution_count": 92,
   "id": "9a1ee8de",
   "metadata": {},
   "outputs": [
    {
     "data": {
      "image/png": "[encoded data removed]",
      "text/plain": [
       "<Figure size 792x288 with 1 Axes>"
      ]
     },
     "metadata": {
      "needs_background": "light"
     },
     "output_type": "display_data"
    }
   ],
   "source": [
    "plt.figure(figsize=(11,4))\n",
    "plt.plot(levels_time_diff_groupby['level'], levels_time_diff_groupby['median'], label='median')\n",
    "plt.plot(levels_time_diff_groupby['level'], levels_time_diff_groupby['mean'], label='mean')\n",
    "plt.title('время, проведенное на уровне (в минутах)')\n",
    "plt.legend()\n",
    "plt.show();"
   ]
  },
  {
   "cell_type": "markdown",
   "id": "f524e04d",
   "metadata": {},
   "source": [
    "Линии среднего и медианного значения похожи.\n",
    "\n",
    "На отметке 7 - 12 уровней мы наблюдаем плато, потом спад.\n",
    "\n",
    "Предполагаем два варината:\n",
    "- либо пользователи, столкнувшиеся с трудностями покидают игру и остаются самые сообразительные,\n",
    "- либо пользователи покупают какой-либо бустер (или подсказки) для более легкого прохождения."
   ]
  },
  {
   "cell_type": "code",
   "execution_count": 93,
   "id": "eeaf3626",
   "metadata": {},
   "outputs": [
    {
     "data": {
      "text/plain": [
       "2.0     25534\n",
       "3.0     21366\n",
       "4.0     17862\n",
       "5.0     14438\n",
       "6.0     12729\n",
       "7.0     12083\n",
       "8.0     10327\n",
       "9.0      6598\n",
       "10.0     4034\n",
       "11.0     2636\n",
       "12.0     1553\n",
       "13.0      795\n",
       "14.0      384\n",
       "15.0      173\n",
       "16.0       74\n",
       "17.0       22\n",
       "18.0        7\n",
       "19.0        5\n",
       "20.0        2\n",
       "21.0        1\n",
       "Name: level, dtype: int64"
      ]
     },
     "execution_count": 93,
     "metadata": {},
     "output_type": "execute_result"
    }
   ],
   "source": [
    "levels['level'].value_counts()"
   ]
  },
  {
   "cell_type": "markdown",
   "id": "0035360a",
   "metadata": {},
   "source": [
    "Первое предположение частично подтверждается - начиная с 9 уровня идет спад количества пользователей."
   ]
  },
  {
   "cell_type": "markdown",
   "id": "425ed3a1",
   "metadata": {},
   "source": [
    "<a id=\"metrics_cohort\"> </a>\n",
    "\n",
    "# 2.3. Метрики монетизации для всей когорты"
   ]
  },
  {
   "cell_type": "code",
   "execution_count": 94,
   "id": "88521089",
   "metadata": {},
   "outputs": [],
   "source": [
    "sql_query = '''SELECT \n",
    "               p.user_id, p.pay_time, p.amt,\n",
    "               u.reg_time,\n",
    "               s.open_time, s.close_time\n",
    "               FROM payments as p\n",
    "               \n",
    "               INNER JOIN users as u on p.user_id = u.user_id\n",
    "               INNER JOIN sessions as s on p.user_id = s.user_id\n",
    "               WHERE p.pay_time BETWEEN s.open_time AND s.close_time'''"
   ]
  },
  {
   "cell_type": "code",
   "execution_count": 95,
   "id": "8324df0a",
   "metadata": {},
   "outputs": [],
   "source": [
    "payments_user_session = ps.sqldf(sql_query)"
   ]
  },
  {
   "cell_type": "code",
   "execution_count": 96,
   "id": "f0d9ea27",
   "metadata": {},
   "outputs": [],
   "source": [
    "payments_user_session['reg_date'] = pd.to_datetime(payments_user_session['reg_time']).dt.date\n",
    "\n",
    "payments_user_session['open_date'] = pd.to_datetime(payments_user_session['open_time']).dt.date\n",
    "payments_user_session['close_date'] = pd.to_datetime(payments_user_session['close_time']).dt.date"
   ]
  },
  {
   "cell_type": "code",
   "execution_count": 97,
   "id": "116fb248",
   "metadata": {},
   "outputs": [],
   "source": [
    "payments_user_session['life_time'] = (payments_user_session['open_date'] - payments_user_session['reg_date']).dt.days"
   ]
  },
  {
   "cell_type": "markdown",
   "id": "ffb2b60e",
   "metadata": {},
   "source": [
    "<a id=\"arpu\"> </a>\n",
    "# ARPU = Доход / Количество клиентов."
   ]
  },
  {
   "cell_type": "code",
   "execution_count": 98,
   "id": "1a050bde",
   "metadata": {},
   "outputs": [
    {
     "name": "stdout",
     "output_type": "stream",
     "text": [
      "один пользователь принес в среднем: 0.72\n"
     ]
    }
   ],
   "source": [
    "simple_arpu = payments_user_session['amt'].sum() / payments_user_session['user_id'].count()\n",
    "print('один пользователь принес в среднем:', round(simple_arpu, 2))"
   ]
  },
  {
   "cell_type": "markdown",
   "id": "b2e5de80",
   "metadata": {},
   "source": [
    "<a id=\"ltv\"> </a>\n",
    "\n",
    "# LTV - пожизненная ценность клиента."
   ]
  },
  {
   "cell_type": "markdown",
   "id": "b626cdd3",
   "metadata": {},
   "source": [
    "самая простая формула: LTV = Lifetime x ARPU"
   ]
  },
  {
   "cell_type": "code",
   "execution_count": 99,
   "id": "53c82cd2",
   "metadata": {},
   "outputs": [
    {
     "data": {
      "text/plain": [
       "count    696.000000\n",
       "mean       2.827586\n",
       "std        2.747218\n",
       "min        0.000000\n",
       "25%        0.000000\n",
       "50%        2.000000\n",
       "75%        5.000000\n",
       "max       10.000000\n",
       "Name: life_time, dtype: float64"
      ]
     },
     "execution_count": 99,
     "metadata": {},
     "output_type": "execute_result"
    }
   ],
   "source": [
    "# найдем средний период активности\n",
    "\n",
    "payments_user_session['life_time'].describe()"
   ]
  },
  {
   "cell_type": "code",
   "execution_count": 100,
   "id": "65fd6ca5",
   "metadata": {},
   "outputs": [
    {
     "name": "stdout",
     "output_type": "stream",
     "text": [
      "за весь период один пользователь принес в среднем: 2.03\n"
     ]
    }
   ],
   "source": [
    "print('за весь период один пользователь принес в среднем:', round(payments_user_session['life_time'].mean() * simple_arpu, 2))"
   ]
  },
  {
   "cell_type": "markdown",
   "id": "4499e10f",
   "metadata": {},
   "source": [
    "<a id=\"churn_rate\"> </a>\n",
    "\n",
    "# Churn rate - коэффициент оттока."
   ]
  },
  {
   "cell_type": "code",
   "execution_count": 101,
   "id": "2e739d66",
   "metadata": {},
   "outputs": [
    {
     "data": {
      "text/html": [
       "<div>\n",
       "<style scoped>\n",
       "    .dataframe tbody tr th:only-of-type {\n",
       "        vertical-align: middle;\n",
       "    }\n",
       "\n",
       "    .dataframe tbody tr th {\n",
       "        vertical-align: top;\n",
       "    }\n",
       "\n",
       "    .dataframe thead th {\n",
       "        text-align: right;\n",
       "    }\n",
       "</style>\n",
       "<table border=\"1\" class=\"dataframe\">\n",
       "  <thead>\n",
       "    <tr style=\"text-align: right;\">\n",
       "      <th>life_time</th>\n",
       "      <th>0.0</th>\n",
       "      <th>1.0</th>\n",
       "      <th>2.0</th>\n",
       "      <th>3.0</th>\n",
       "      <th>4.0</th>\n",
       "      <th>5.0</th>\n",
       "      <th>6.0</th>\n",
       "      <th>7.0</th>\n",
       "      <th>8.0</th>\n",
       "      <th>9.0</th>\n",
       "      <th>10.0</th>\n",
       "    </tr>\n",
       "    <tr>\n",
       "      <th>reg_date</th>\n",
       "      <th></th>\n",
       "      <th></th>\n",
       "      <th></th>\n",
       "      <th></th>\n",
       "      <th></th>\n",
       "      <th></th>\n",
       "      <th></th>\n",
       "      <th></th>\n",
       "      <th></th>\n",
       "      <th></th>\n",
       "      <th></th>\n",
       "    </tr>\n",
       "  </thead>\n",
       "  <tbody>\n",
       "    <tr>\n",
       "      <th>2023-05-11</th>\n",
       "      <td>0.0</td>\n",
       "      <td>0.55</td>\n",
       "      <td>0.18</td>\n",
       "      <td>0.18</td>\n",
       "      <td>0.12</td>\n",
       "      <td>0.14</td>\n",
       "      <td>-0.05</td>\n",
       "      <td>-0.01</td>\n",
       "      <td>0.13</td>\n",
       "      <td>0.11</td>\n",
       "      <td>0.69</td>\n",
       "    </tr>\n",
       "    <tr>\n",
       "      <th>2023-05-12</th>\n",
       "      <td>0.0</td>\n",
       "      <td>0.56</td>\n",
       "      <td>0.22</td>\n",
       "      <td>0.17</td>\n",
       "      <td>0.23</td>\n",
       "      <td>-0.04</td>\n",
       "      <td>0.05</td>\n",
       "      <td>0.06</td>\n",
       "      <td>0.11</td>\n",
       "      <td>0.16</td>\n",
       "      <td>0.56</td>\n",
       "    </tr>\n",
       "    <tr>\n",
       "      <th>2023-05-13</th>\n",
       "      <td>0.0</td>\n",
       "      <td>0.59</td>\n",
       "      <td>0.25</td>\n",
       "      <td>0.12</td>\n",
       "      <td>0.12</td>\n",
       "      <td>0.12</td>\n",
       "      <td>0.03</td>\n",
       "      <td>0.11</td>\n",
       "      <td>0.00</td>\n",
       "      <td>0.10</td>\n",
       "      <td>0.63</td>\n",
       "    </tr>\n",
       "    <tr>\n",
       "      <th>2023-05-14</th>\n",
       "      <td>0.0</td>\n",
       "      <td>0.69</td>\n",
       "      <td>0.29</td>\n",
       "      <td>0.07</td>\n",
       "      <td>0.13</td>\n",
       "      <td>0.06</td>\n",
       "      <td>0.04</td>\n",
       "      <td>0.01</td>\n",
       "      <td>0.21</td>\n",
       "      <td>0.05</td>\n",
       "      <td>0.62</td>\n",
       "    </tr>\n",
       "    <tr>\n",
       "      <th>2023-05-15</th>\n",
       "      <td>0.0</td>\n",
       "      <td>0.65</td>\n",
       "      <td>0.26</td>\n",
       "      <td>0.15</td>\n",
       "      <td>0.14</td>\n",
       "      <td>0.07</td>\n",
       "      <td>0.07</td>\n",
       "      <td>0.06</td>\n",
       "      <td>0.06</td>\n",
       "      <td>0.05</td>\n",
       "      <td>0.46</td>\n",
       "    </tr>\n",
       "    <tr>\n",
       "      <th>2023-05-16</th>\n",
       "      <td>0.0</td>\n",
       "      <td>0.67</td>\n",
       "      <td>0.27</td>\n",
       "      <td>0.15</td>\n",
       "      <td>0.11</td>\n",
       "      <td>0.11</td>\n",
       "      <td>0.07</td>\n",
       "      <td>0.05</td>\n",
       "      <td>0.02</td>\n",
       "      <td>0.06</td>\n",
       "      <td>0.72</td>\n",
       "    </tr>\n",
       "    <tr>\n",
       "      <th>2023-05-17</th>\n",
       "      <td>0.0</td>\n",
       "      <td>0.53</td>\n",
       "      <td>0.23</td>\n",
       "      <td>0.14</td>\n",
       "      <td>0.11</td>\n",
       "      <td>0.08</td>\n",
       "      <td>0.08</td>\n",
       "      <td>0.02</td>\n",
       "      <td>0.07</td>\n",
       "      <td>0.06</td>\n",
       "      <td>0.64</td>\n",
       "    </tr>\n",
       "    <tr>\n",
       "      <th>2023-05-18</th>\n",
       "      <td>0.0</td>\n",
       "      <td>0.49</td>\n",
       "      <td>0.21</td>\n",
       "      <td>0.12</td>\n",
       "      <td>0.13</td>\n",
       "      <td>0.10</td>\n",
       "      <td>0.05</td>\n",
       "      <td>0.02</td>\n",
       "      <td>0.04</td>\n",
       "      <td>0.09</td>\n",
       "      <td>0.84</td>\n",
       "    </tr>\n",
       "    <tr>\n",
       "      <th>2023-05-19</th>\n",
       "      <td>0.0</td>\n",
       "      <td>0.54</td>\n",
       "      <td>0.19</td>\n",
       "      <td>0.13</td>\n",
       "      <td>0.13</td>\n",
       "      <td>-0.01</td>\n",
       "      <td>0.08</td>\n",
       "      <td>0.04</td>\n",
       "      <td>0.12</td>\n",
       "      <td>0.07</td>\n",
       "      <td>0.61</td>\n",
       "    </tr>\n",
       "    <tr>\n",
       "      <th>2023-05-20</th>\n",
       "      <td>0.0</td>\n",
       "      <td>0.54</td>\n",
       "      <td>0.25</td>\n",
       "      <td>0.16</td>\n",
       "      <td>0.06</td>\n",
       "      <td>0.08</td>\n",
       "      <td>0.06</td>\n",
       "      <td>0.06</td>\n",
       "      <td>0.05</td>\n",
       "      <td>0.04</td>\n",
       "      <td>0.69</td>\n",
       "    </tr>\n",
       "    <tr>\n",
       "      <th>2023-05-21</th>\n",
       "      <td>0.0</td>\n",
       "      <td>0.54</td>\n",
       "      <td>0.08</td>\n",
       "      <td>0.15</td>\n",
       "      <td>0.09</td>\n",
       "      <td>0.05</td>\n",
       "      <td>0.02</td>\n",
       "      <td>0.18</td>\n",
       "      <td>0.06</td>\n",
       "      <td>0.10</td>\n",
       "      <td>1.00</td>\n",
       "    </tr>\n",
       "  </tbody>\n",
       "</table>\n",
       "</div>"
      ],
      "text/plain": [
       "life_time   0.0   1.0   2.0   3.0   4.0   5.0   6.0   7.0   8.0   9.0   10.0\n",
       "reg_date                                                                    \n",
       "2023-05-11   0.0  0.55  0.18  0.18  0.12  0.14 -0.05 -0.01  0.13  0.11  0.69\n",
       "2023-05-12   0.0  0.56  0.22  0.17  0.23 -0.04  0.05  0.06  0.11  0.16  0.56\n",
       "2023-05-13   0.0  0.59  0.25  0.12  0.12  0.12  0.03  0.11  0.00  0.10  0.63\n",
       "2023-05-14   0.0  0.69  0.29  0.07  0.13  0.06  0.04  0.01  0.21  0.05  0.62\n",
       "2023-05-15   0.0  0.65  0.26  0.15  0.14  0.07  0.07  0.06  0.06  0.05  0.46\n",
       "2023-05-16   0.0  0.67  0.27  0.15  0.11  0.11  0.07  0.05  0.02  0.06  0.72\n",
       "2023-05-17   0.0  0.53  0.23  0.14  0.11  0.08  0.08  0.02  0.07  0.06  0.64\n",
       "2023-05-18   0.0  0.49  0.21  0.12  0.13  0.10  0.05  0.02  0.04  0.09  0.84\n",
       "2023-05-19   0.0  0.54  0.19  0.13  0.13 -0.01  0.08  0.04  0.12  0.07  0.61\n",
       "2023-05-20   0.0  0.54  0.25  0.16  0.06  0.08  0.06  0.06  0.05  0.04  0.69\n",
       "2023-05-21   0.0  0.54  0.08  0.15  0.09  0.05  0.02  0.18  0.06  0.10  1.00"
      ]
     },
     "execution_count": 101,
     "metadata": {},
     "output_type": "execute_result"
    }
   ],
   "source": [
    "churn_rate = pd.crosstab(first_session['reg_date'], first_session['life_time'])\n",
    "\n",
    "churn_rate = round(1 - churn_rate / churn_rate.shift(1, axis=1), 2).fillna(0)\n",
    "\n",
    "churn_rate"
   ]
  },
  {
   "cell_type": "markdown",
   "id": "9e083e4c",
   "metadata": {},
   "source": [
    "Один пользователь принес в среднем: 0.72.\n",
    "\n",
    "Пожизненная ценность клиента - 2.03.\n",
    "\n",
    "На предыдущем шаге мы выяснили, что у групп от 16 и 18 числа удержание на 10 день самое высокое. Эти группы так же хорошо себя показывают себя в плане коэффициента оттока на 10 день."
   ]
  },
  {
   "cell_type": "markdown",
   "id": "7821264c",
   "metadata": {},
   "source": [
    "\n",
    "<a id=\"max_payments\"> </a>\n",
    "# 2.4. Где ученики совершают больше всего платежей?"
   ]
  },
  {
   "cell_type": "markdown",
   "id": "82d2f4cb",
   "metadata": {},
   "source": [
    "Мне в голову приходит два ответа на вопрос \"где совершают больше всего платежей?\":\n",
    "- первый: в какой день от момента регистрации,\n",
    "- второй: на каких уровнях происходит больше всего платежей."
   ]
  },
  {
   "cell_type": "code",
   "execution_count": 102,
   "id": "21f40cc0",
   "metadata": {},
   "outputs": [
    {
     "data": {
      "text/html": [
       "<div>\n",
       "<style scoped>\n",
       "    .dataframe tbody tr th:only-of-type {\n",
       "        vertical-align: middle;\n",
       "    }\n",
       "\n",
       "    .dataframe tbody tr th {\n",
       "        vertical-align: top;\n",
       "    }\n",
       "\n",
       "    .dataframe thead th {\n",
       "        text-align: right;\n",
       "    }\n",
       "</style>\n",
       "<table border=\"1\" class=\"dataframe\">\n",
       "  <thead>\n",
       "    <tr style=\"text-align: right;\">\n",
       "      <th></th>\n",
       "      <th>user_id</th>\n",
       "      <th>pay_time</th>\n",
       "      <th>amt</th>\n",
       "      <th>reg_time</th>\n",
       "      <th>open_time</th>\n",
       "      <th>close_time</th>\n",
       "      <th>reg_date</th>\n",
       "      <th>open_date</th>\n",
       "      <th>close_date</th>\n",
       "      <th>life_time</th>\n",
       "    </tr>\n",
       "  </thead>\n",
       "  <tbody>\n",
       "    <tr>\n",
       "      <th>0</th>\n",
       "      <td>107907</td>\n",
       "      <td>2023-05-29 17:08:18.890</td>\n",
       "      <td>0.400218</td>\n",
       "      <td>2023-05-20 20:21:33.916</td>\n",
       "      <td>2023-05-29 16:57:27</td>\n",
       "      <td>2023-05-29 17:47:24</td>\n",
       "      <td>2023-05-20</td>\n",
       "      <td>2023-05-29</td>\n",
       "      <td>2023-05-29</td>\n",
       "      <td>9</td>\n",
       "    </tr>\n",
       "    <tr>\n",
       "      <th>1</th>\n",
       "      <td>510991</td>\n",
       "      <td>2023-05-20 16:55:01.216</td>\n",
       "      <td>0.199608</td>\n",
       "      <td>2023-05-19 20:26:36.963</td>\n",
       "      <td>2023-05-20 16:50:04</td>\n",
       "      <td>2023-05-20 17:16:40</td>\n",
       "      <td>2023-05-19</td>\n",
       "      <td>2023-05-20</td>\n",
       "      <td>2023-05-20</td>\n",
       "      <td>1</td>\n",
       "    </tr>\n",
       "    <tr>\n",
       "      <th>2</th>\n",
       "      <td>294837</td>\n",
       "      <td>2023-05-19 01:41:55.970</td>\n",
       "      <td>0.199608</td>\n",
       "      <td>2023-05-18 12:54:08.580</td>\n",
       "      <td>2023-05-19 01:02:24</td>\n",
       "      <td>2023-05-19 01:55:22</td>\n",
       "      <td>2023-05-18</td>\n",
       "      <td>2023-05-19</td>\n",
       "      <td>2023-05-19</td>\n",
       "      <td>1</td>\n",
       "    </tr>\n",
       "    <tr>\n",
       "      <th>3</th>\n",
       "      <td>644287</td>\n",
       "      <td>2023-05-20 03:01:53.697</td>\n",
       "      <td>0.199608</td>\n",
       "      <td>2023-05-20 01:36:12.306</td>\n",
       "      <td>2023-05-20 03:00:22</td>\n",
       "      <td>2023-05-20 03:21:18</td>\n",
       "      <td>2023-05-20</td>\n",
       "      <td>2023-05-20</td>\n",
       "      <td>2023-05-20</td>\n",
       "      <td>0</td>\n",
       "    </tr>\n",
       "    <tr>\n",
       "      <th>4</th>\n",
       "      <td>673424</td>\n",
       "      <td>2023-05-20 03:33:36.918</td>\n",
       "      <td>0.099302</td>\n",
       "      <td>2023-05-18 01:22:31.109</td>\n",
       "      <td>2023-05-20 02:53:33</td>\n",
       "      <td>2023-05-20 03:47:20</td>\n",
       "      <td>2023-05-18</td>\n",
       "      <td>2023-05-20</td>\n",
       "      <td>2023-05-20</td>\n",
       "      <td>2</td>\n",
       "    </tr>\n",
       "    <tr>\n",
       "      <th>...</th>\n",
       "      <td>...</td>\n",
       "      <td>...</td>\n",
       "      <td>...</td>\n",
       "      <td>...</td>\n",
       "      <td>...</td>\n",
       "      <td>...</td>\n",
       "      <td>...</td>\n",
       "      <td>...</td>\n",
       "      <td>...</td>\n",
       "      <td>...</td>\n",
       "    </tr>\n",
       "    <tr>\n",
       "      <th>691</th>\n",
       "      <td>722621</td>\n",
       "      <td>2023-05-27 19:13:39.445</td>\n",
       "      <td>0.400218</td>\n",
       "      <td>2023-05-20 13:22:59.428</td>\n",
       "      <td>2023-05-27 18:53:26</td>\n",
       "      <td>2023-05-27 19:36:12</td>\n",
       "      <td>2023-05-20</td>\n",
       "      <td>2023-05-27</td>\n",
       "      <td>2023-05-27</td>\n",
       "      <td>7</td>\n",
       "    </tr>\n",
       "    <tr>\n",
       "      <th>692</th>\n",
       "      <td>940244</td>\n",
       "      <td>2023-05-19 03:08:36.320</td>\n",
       "      <td>0.400218</td>\n",
       "      <td>2023-05-19 02:53:16.840</td>\n",
       "      <td>2023-05-19 02:53:17</td>\n",
       "      <td>2023-05-19 04:24:00</td>\n",
       "      <td>2023-05-19</td>\n",
       "      <td>2023-05-19</td>\n",
       "      <td>2023-05-19</td>\n",
       "      <td>0</td>\n",
       "    </tr>\n",
       "    <tr>\n",
       "      <th>693</th>\n",
       "      <td>895621</td>\n",
       "      <td>2023-05-22 20:50:28.787</td>\n",
       "      <td>3.008157</td>\n",
       "      <td>2023-05-21 01:33:21.206</td>\n",
       "      <td>2023-05-22 20:45:22</td>\n",
       "      <td>2023-05-22 21:30:44</td>\n",
       "      <td>2023-05-21</td>\n",
       "      <td>2023-05-22</td>\n",
       "      <td>2023-05-22</td>\n",
       "      <td>1</td>\n",
       "    </tr>\n",
       "    <tr>\n",
       "      <th>694</th>\n",
       "      <td>940244</td>\n",
       "      <td>2023-05-23 15:52:14.721</td>\n",
       "      <td>1.503577</td>\n",
       "      <td>2023-05-19 02:53:16.840</td>\n",
       "      <td>2023-05-23 15:41:23</td>\n",
       "      <td>2023-05-23 17:10:16</td>\n",
       "      <td>2023-05-19</td>\n",
       "      <td>2023-05-23</td>\n",
       "      <td>2023-05-23</td>\n",
       "      <td>4</td>\n",
       "    </tr>\n",
       "    <tr>\n",
       "      <th>695</th>\n",
       "      <td>403762</td>\n",
       "      <td>2023-05-18 11:35:46.508</td>\n",
       "      <td>0.199608</td>\n",
       "      <td>2023-05-18 04:10:24.967</td>\n",
       "      <td>2023-05-18 11:30:36</td>\n",
       "      <td>2023-05-18 12:23:18</td>\n",
       "      <td>2023-05-18</td>\n",
       "      <td>2023-05-18</td>\n",
       "      <td>2023-05-18</td>\n",
       "      <td>0</td>\n",
       "    </tr>\n",
       "  </tbody>\n",
       "</table>\n",
       "<p>696 rows × 10 columns</p>\n",
       "</div>"
      ],
      "text/plain": [
       "     user_id                 pay_time       amt                 reg_time  \\\n",
       "0     107907  2023-05-29 17:08:18.890  0.400218  2023-05-20 20:21:33.916   \n",
       "1     510991  2023-05-20 16:55:01.216  0.199608  2023-05-19 20:26:36.963   \n",
       "2     294837  2023-05-19 01:41:55.970  0.199608  2023-05-18 12:54:08.580   \n",
       "3     644287  2023-05-20 03:01:53.697  0.199608  2023-05-20 01:36:12.306   \n",
       "4     673424  2023-05-20 03:33:36.918  0.099302  2023-05-18 01:22:31.109   \n",
       "..       ...                      ...       ...                      ...   \n",
       "691   722621  2023-05-27 19:13:39.445  0.400218  2023-05-20 13:22:59.428   \n",
       "692   940244  2023-05-19 03:08:36.320  0.400218  2023-05-19 02:53:16.840   \n",
       "693   895621  2023-05-22 20:50:28.787  3.008157  2023-05-21 01:33:21.206   \n",
       "694   940244  2023-05-23 15:52:14.721  1.503577  2023-05-19 02:53:16.840   \n",
       "695   403762  2023-05-18 11:35:46.508  0.199608  2023-05-18 04:10:24.967   \n",
       "\n",
       "               open_time           close_time    reg_date   open_date  \\\n",
       "0    2023-05-29 16:57:27  2023-05-29 17:47:24  2023-05-20  2023-05-29   \n",
       "1    2023-05-20 16:50:04  2023-05-20 17:16:40  2023-05-19  2023-05-20   \n",
       "2    2023-05-19 01:02:24  2023-05-19 01:55:22  2023-05-18  2023-05-19   \n",
       "3    2023-05-20 03:00:22  2023-05-20 03:21:18  2023-05-20  2023-05-20   \n",
       "4    2023-05-20 02:53:33  2023-05-20 03:47:20  2023-05-18  2023-05-20   \n",
       "..                   ...                  ...         ...         ...   \n",
       "691  2023-05-27 18:53:26  2023-05-27 19:36:12  2023-05-20  2023-05-27   \n",
       "692  2023-05-19 02:53:17  2023-05-19 04:24:00  2023-05-19  2023-05-19   \n",
       "693  2023-05-22 20:45:22  2023-05-22 21:30:44  2023-05-21  2023-05-22   \n",
       "694  2023-05-23 15:41:23  2023-05-23 17:10:16  2023-05-19  2023-05-23   \n",
       "695  2023-05-18 11:30:36  2023-05-18 12:23:18  2023-05-18  2023-05-18   \n",
       "\n",
       "     close_date  life_time  \n",
       "0    2023-05-29          9  \n",
       "1    2023-05-20          1  \n",
       "2    2023-05-19          1  \n",
       "3    2023-05-20          0  \n",
       "4    2023-05-20          2  \n",
       "..          ...        ...  \n",
       "691  2023-05-27          7  \n",
       "692  2023-05-19          0  \n",
       "693  2023-05-22          1  \n",
       "694  2023-05-23          4  \n",
       "695  2023-05-18          0  \n",
       "\n",
       "[696 rows x 10 columns]"
      ]
     },
     "execution_count": 102,
     "metadata": {},
     "output_type": "execute_result"
    }
   ],
   "source": [
    "payments_user_session"
   ]
  },
  {
   "cell_type": "code",
   "execution_count": 103,
   "id": "008599c5",
   "metadata": {},
   "outputs": [
    {
     "data": {
      "text/html": [
       "<div>\n",
       "<style scoped>\n",
       "    .dataframe tbody tr th:only-of-type {\n",
       "        vertical-align: middle;\n",
       "    }\n",
       "\n",
       "    .dataframe tbody tr th {\n",
       "        vertical-align: top;\n",
       "    }\n",
       "\n",
       "    .dataframe thead th {\n",
       "        text-align: right;\n",
       "    }\n",
       "</style>\n",
       "<table border=\"1\" class=\"dataframe\">\n",
       "  <thead>\n",
       "    <tr style=\"text-align: right;\">\n",
       "      <th></th>\n",
       "      <th>count</th>\n",
       "      <th>sum</th>\n",
       "    </tr>\n",
       "    <tr>\n",
       "      <th>life_time</th>\n",
       "      <th></th>\n",
       "      <th></th>\n",
       "    </tr>\n",
       "  </thead>\n",
       "  <tbody>\n",
       "    <tr>\n",
       "      <th>0</th>\n",
       "      <td>175</td>\n",
       "      <td>145.56</td>\n",
       "    </tr>\n",
       "    <tr>\n",
       "      <th>1</th>\n",
       "      <td>137</td>\n",
       "      <td>87.12</td>\n",
       "    </tr>\n",
       "    <tr>\n",
       "      <th>2</th>\n",
       "      <td>75</td>\n",
       "      <td>45.76</td>\n",
       "    </tr>\n",
       "    <tr>\n",
       "      <th>3</th>\n",
       "      <td>64</td>\n",
       "      <td>34.14</td>\n",
       "    </tr>\n",
       "    <tr>\n",
       "      <th>4</th>\n",
       "      <td>64</td>\n",
       "      <td>44.47</td>\n",
       "    </tr>\n",
       "    <tr>\n",
       "      <th>5</th>\n",
       "      <td>43</td>\n",
       "      <td>29.75</td>\n",
       "    </tr>\n",
       "    <tr>\n",
       "      <th>6</th>\n",
       "      <td>43</td>\n",
       "      <td>32.96</td>\n",
       "    </tr>\n",
       "    <tr>\n",
       "      <th>7</th>\n",
       "      <td>32</td>\n",
       "      <td>19.93</td>\n",
       "    </tr>\n",
       "    <tr>\n",
       "      <th>8</th>\n",
       "      <td>34</td>\n",
       "      <td>30.16</td>\n",
       "    </tr>\n",
       "    <tr>\n",
       "      <th>9</th>\n",
       "      <td>26</td>\n",
       "      <td>28.36</td>\n",
       "    </tr>\n",
       "    <tr>\n",
       "      <th>10</th>\n",
       "      <td>3</td>\n",
       "      <td>2.30</td>\n",
       "    </tr>\n",
       "  </tbody>\n",
       "</table>\n",
       "</div>"
      ],
      "text/plain": [
       "           count     sum\n",
       "life_time               \n",
       "0            175  145.56\n",
       "1            137   87.12\n",
       "2             75   45.76\n",
       "3             64   34.14\n",
       "4             64   44.47\n",
       "5             43   29.75\n",
       "6             43   32.96\n",
       "7             32   19.93\n",
       "8             34   30.16\n",
       "9             26   28.36\n",
       "10             3    2.30"
      ]
     },
     "execution_count": 103,
     "metadata": {},
     "output_type": "execute_result"
    }
   ],
   "source": [
    "# ответим на первую часть нашего предположения:\n",
    "\n",
    "payments_user_session.groupby('life_time')['amt'].agg(['count', 'sum']).round(2)"
   ]
  },
  {
   "cell_type": "markdown",
   "id": "afb61782",
   "metadata": {},
   "source": [
    "В первые дни после регистрации пользователи совершают больше всего платежей."
   ]
  },
  {
   "cell_type": "markdown",
   "id": "1066ec04",
   "metadata": {},
   "source": [
    "Попробуем связать момент оплаты и момент перехода с уровня на уровень.\n",
    "\n",
    "Опытным путем я выяснила, что:\n",
    "- момент оплаты и момент перехода с уровня на уровень не совпадают - обычно с начала происходит переход, потом - оплата с разницей в 5-15 минут;\n",
    "- у некоторых пользователей в payments есть записи об оплате, но записей о переходе с уровня на уровень - нет (например, пользвоатель 10790: оплата было 29 числа, последняя запись в levels - 28 число). \n",
    "\n",
    "Следовательно, объединив эти две таблицы, на выходе мы получим таблицу меньшего размера, чем payments."
   ]
  },
  {
   "cell_type": "code",
   "execution_count": 104,
   "id": "7ce4c042",
   "metadata": {},
   "outputs": [
    {
     "data": {
      "text/html": [
       "<div>\n",
       "<style scoped>\n",
       "    .dataframe tbody tr th:only-of-type {\n",
       "        vertical-align: middle;\n",
       "    }\n",
       "\n",
       "    .dataframe tbody tr th {\n",
       "        vertical-align: top;\n",
       "    }\n",
       "\n",
       "    .dataframe thead th {\n",
       "        text-align: right;\n",
       "    }\n",
       "</style>\n",
       "<table border=\"1\" class=\"dataframe\">\n",
       "  <thead>\n",
       "    <tr style=\"text-align: right;\">\n",
       "      <th></th>\n",
       "      <th>user_id</th>\n",
       "      <th>pay_time</th>\n",
       "      <th>amt</th>\n",
       "      <th>time</th>\n",
       "      <th>level</th>\n",
       "      <th>time_next_level</th>\n",
       "      <th>time_previous_level</th>\n",
       "      <th>time_diff_minutes</th>\n",
       "    </tr>\n",
       "  </thead>\n",
       "  <tbody>\n",
       "    <tr>\n",
       "      <th>0</th>\n",
       "      <td>107907</td>\n",
       "      <td>2023-05-29 17:08:18.890</td>\n",
       "      <td>0.400218</td>\n",
       "      <td>2023-05-20 20:25:29.712003</td>\n",
       "      <td>2.0</td>\n",
       "      <td>2023-05-20 20:30:14.212003</td>\n",
       "      <td>None</td>\n",
       "      <td>NaN</td>\n",
       "    </tr>\n",
       "    <tr>\n",
       "      <th>1</th>\n",
       "      <td>107907</td>\n",
       "      <td>2023-05-29 17:08:18.890</td>\n",
       "      <td>0.400218</td>\n",
       "      <td>2023-05-20 20:30:14.212003</td>\n",
       "      <td>3.0</td>\n",
       "      <td>2023-05-20 20:36:57.733003</td>\n",
       "      <td>2023-05-20 20:25:29.712003</td>\n",
       "      <td>4.0</td>\n",
       "    </tr>\n",
       "    <tr>\n",
       "      <th>2</th>\n",
       "      <td>107907</td>\n",
       "      <td>2023-05-29 17:08:18.890</td>\n",
       "      <td>0.400218</td>\n",
       "      <td>2023-05-20 20:36:57.733003</td>\n",
       "      <td>4.0</td>\n",
       "      <td>2023-05-21 16:36:11.744003</td>\n",
       "      <td>2023-05-20 20:30:14.212003</td>\n",
       "      <td>6.0</td>\n",
       "    </tr>\n",
       "    <tr>\n",
       "      <th>3</th>\n",
       "      <td>107907</td>\n",
       "      <td>2023-05-29 17:08:18.890</td>\n",
       "      <td>0.400218</td>\n",
       "      <td>2023-05-21 16:36:11.744003</td>\n",
       "      <td>5.0</td>\n",
       "      <td>2023-05-26 17:04:26.843003</td>\n",
       "      <td>2023-05-20 20:36:57.733003</td>\n",
       "      <td>1199.0</td>\n",
       "    </tr>\n",
       "    <tr>\n",
       "      <th>4</th>\n",
       "      <td>107907</td>\n",
       "      <td>2023-05-29 17:08:18.890</td>\n",
       "      <td>0.400218</td>\n",
       "      <td>2023-05-26 17:04:26.843003</td>\n",
       "      <td>6.0</td>\n",
       "      <td>2023-05-26 17:20:43.787003</td>\n",
       "      <td>2023-05-21 16:36:11.744003</td>\n",
       "      <td>7228.0</td>\n",
       "    </tr>\n",
       "    <tr>\n",
       "      <th>...</th>\n",
       "      <td>...</td>\n",
       "      <td>...</td>\n",
       "      <td>...</td>\n",
       "      <td>...</td>\n",
       "      <td>...</td>\n",
       "      <td>...</td>\n",
       "      <td>...</td>\n",
       "      <td>...</td>\n",
       "    </tr>\n",
       "    <tr>\n",
       "      <th>7433</th>\n",
       "      <td>403762</td>\n",
       "      <td>2023-05-18 11:35:46.508</td>\n",
       "      <td>0.199608</td>\n",
       "      <td>2023-05-18 11:34:30.717003</td>\n",
       "      <td>5.0</td>\n",
       "      <td>2023-05-18 11:47:00.405003</td>\n",
       "      <td>2023-05-18 08:16:44.598003</td>\n",
       "      <td>197.0</td>\n",
       "    </tr>\n",
       "    <tr>\n",
       "      <th>7434</th>\n",
       "      <td>403762</td>\n",
       "      <td>2023-05-18 11:35:46.508</td>\n",
       "      <td>0.199608</td>\n",
       "      <td>2023-05-18 11:47:00.405003</td>\n",
       "      <td>6.0</td>\n",
       "      <td>2023-05-18 11:56:53.545001</td>\n",
       "      <td>2023-05-18 11:34:30.717003</td>\n",
       "      <td>12.0</td>\n",
       "    </tr>\n",
       "    <tr>\n",
       "      <th>7435</th>\n",
       "      <td>403762</td>\n",
       "      <td>2023-05-18 11:35:46.508</td>\n",
       "      <td>0.199608</td>\n",
       "      <td>2023-05-18 11:56:53.545001</td>\n",
       "      <td>7.0</td>\n",
       "      <td>2023-05-18 12:18:01.787004</td>\n",
       "      <td>2023-05-18 11:47:00.405003</td>\n",
       "      <td>9.0</td>\n",
       "    </tr>\n",
       "    <tr>\n",
       "      <th>7436</th>\n",
       "      <td>403762</td>\n",
       "      <td>2023-05-18 11:35:46.508</td>\n",
       "      <td>0.199608</td>\n",
       "      <td>2023-05-18 12:18:01.787004</td>\n",
       "      <td>8.0</td>\n",
       "      <td>2023-05-20 04:05:51.135002</td>\n",
       "      <td>2023-05-18 11:56:53.545001</td>\n",
       "      <td>21.0</td>\n",
       "    </tr>\n",
       "    <tr>\n",
       "      <th>7437</th>\n",
       "      <td>403762</td>\n",
       "      <td>2023-05-18 11:35:46.508</td>\n",
       "      <td>0.199608</td>\n",
       "      <td>2023-05-20 04:05:51.135002</td>\n",
       "      <td>9.0</td>\n",
       "      <td>None</td>\n",
       "      <td>2023-05-18 12:18:01.787004</td>\n",
       "      <td>2387.0</td>\n",
       "    </tr>\n",
       "  </tbody>\n",
       "</table>\n",
       "<p>7438 rows × 8 columns</p>\n",
       "</div>"
      ],
      "text/plain": [
       "      user_id                 pay_time       amt                        time  \\\n",
       "0      107907  2023-05-29 17:08:18.890  0.400218  2023-05-20 20:25:29.712003   \n",
       "1      107907  2023-05-29 17:08:18.890  0.400218  2023-05-20 20:30:14.212003   \n",
       "2      107907  2023-05-29 17:08:18.890  0.400218  2023-05-20 20:36:57.733003   \n",
       "3      107907  2023-05-29 17:08:18.890  0.400218  2023-05-21 16:36:11.744003   \n",
       "4      107907  2023-05-29 17:08:18.890  0.400218  2023-05-26 17:04:26.843003   \n",
       "...       ...                      ...       ...                         ...   \n",
       "7433   403762  2023-05-18 11:35:46.508  0.199608  2023-05-18 11:34:30.717003   \n",
       "7434   403762  2023-05-18 11:35:46.508  0.199608  2023-05-18 11:47:00.405003   \n",
       "7435   403762  2023-05-18 11:35:46.508  0.199608  2023-05-18 11:56:53.545001   \n",
       "7436   403762  2023-05-18 11:35:46.508  0.199608  2023-05-18 12:18:01.787004   \n",
       "7437   403762  2023-05-18 11:35:46.508  0.199608  2023-05-20 04:05:51.135002   \n",
       "\n",
       "      level             time_next_level         time_previous_level  \\\n",
       "0       2.0  2023-05-20 20:30:14.212003                        None   \n",
       "1       3.0  2023-05-20 20:36:57.733003  2023-05-20 20:25:29.712003   \n",
       "2       4.0  2023-05-21 16:36:11.744003  2023-05-20 20:30:14.212003   \n",
       "3       5.0  2023-05-26 17:04:26.843003  2023-05-20 20:36:57.733003   \n",
       "4       6.0  2023-05-26 17:20:43.787003  2023-05-21 16:36:11.744003   \n",
       "...     ...                         ...                         ...   \n",
       "7433    5.0  2023-05-18 11:47:00.405003  2023-05-18 08:16:44.598003   \n",
       "7434    6.0  2023-05-18 11:56:53.545001  2023-05-18 11:34:30.717003   \n",
       "7435    7.0  2023-05-18 12:18:01.787004  2023-05-18 11:47:00.405003   \n",
       "7436    8.0  2023-05-20 04:05:51.135002  2023-05-18 11:56:53.545001   \n",
       "7437    9.0                        None  2023-05-18 12:18:01.787004   \n",
       "\n",
       "      time_diff_minutes  \n",
       "0                   NaN  \n",
       "1                   4.0  \n",
       "2                   6.0  \n",
       "3                1199.0  \n",
       "4                7228.0  \n",
       "...                 ...  \n",
       "7433              197.0  \n",
       "7434               12.0  \n",
       "7435                9.0  \n",
       "7436               21.0  \n",
       "7437             2387.0  \n",
       "\n",
       "[7438 rows x 8 columns]"
      ]
     },
     "execution_count": 104,
     "metadata": {},
     "output_type": "execute_result"
    }
   ],
   "source": [
    "# найдем записи, где момент оплаты попадает в промежуток между двумя уровнями\n",
    "\n",
    "payments_levels_time_diff = payments.merge(levels_time_diff, how='inner', on='user_id')\n",
    "payments_levels_time_diff"
   ]
  },
  {
   "cell_type": "code",
   "execution_count": 107,
   "id": "58d74b04",
   "metadata": {},
   "outputs": [],
   "source": [
    "payments_levels_time_diff = payments_levels_time_diff.query('time <= pay_time <= time_next_level')"
   ]
  },
  {
   "cell_type": "code",
   "execution_count": 108,
   "id": "925ae777",
   "metadata": {},
   "outputs": [
    {
     "data": {
      "text/html": [
       "<div>\n",
       "<style scoped>\n",
       "    .dataframe tbody tr th:only-of-type {\n",
       "        vertical-align: middle;\n",
       "    }\n",
       "\n",
       "    .dataframe tbody tr th {\n",
       "        vertical-align: top;\n",
       "    }\n",
       "\n",
       "    .dataframe thead th {\n",
       "        text-align: right;\n",
       "    }\n",
       "</style>\n",
       "<table border=\"1\" class=\"dataframe\">\n",
       "  <thead>\n",
       "    <tr style=\"text-align: right;\">\n",
       "      <th></th>\n",
       "      <th>level</th>\n",
       "      <th>count</th>\n",
       "      <th>sum</th>\n",
       "    </tr>\n",
       "  </thead>\n",
       "  <tbody>\n",
       "    <tr>\n",
       "      <th>0</th>\n",
       "      <td>2</td>\n",
       "      <td>2</td>\n",
       "      <td>3.41</td>\n",
       "    </tr>\n",
       "    <tr>\n",
       "      <th>1</th>\n",
       "      <td>3</td>\n",
       "      <td>8</td>\n",
       "      <td>5.41</td>\n",
       "    </tr>\n",
       "    <tr>\n",
       "      <th>2</th>\n",
       "      <td>4</td>\n",
       "      <td>44</td>\n",
       "      <td>31.35</td>\n",
       "    </tr>\n",
       "    <tr>\n",
       "      <th>3</th>\n",
       "      <td>5</td>\n",
       "      <td>60</td>\n",
       "      <td>15.69</td>\n",
       "    </tr>\n",
       "    <tr>\n",
       "      <th>4</th>\n",
       "      <td>6</td>\n",
       "      <td>20</td>\n",
       "      <td>12.11</td>\n",
       "    </tr>\n",
       "    <tr>\n",
       "      <th>5</th>\n",
       "      <td>7</td>\n",
       "      <td>46</td>\n",
       "      <td>16.70</td>\n",
       "    </tr>\n",
       "    <tr>\n",
       "      <th>6</th>\n",
       "      <td>8</td>\n",
       "      <td>151</td>\n",
       "      <td>117.20</td>\n",
       "    </tr>\n",
       "    <tr>\n",
       "      <th>7</th>\n",
       "      <td>9</td>\n",
       "      <td>107</td>\n",
       "      <td>75.52</td>\n",
       "    </tr>\n",
       "    <tr>\n",
       "      <th>8</th>\n",
       "      <td>10</td>\n",
       "      <td>72</td>\n",
       "      <td>48.47</td>\n",
       "    </tr>\n",
       "    <tr>\n",
       "      <th>9</th>\n",
       "      <td>11</td>\n",
       "      <td>32</td>\n",
       "      <td>24.44</td>\n",
       "    </tr>\n",
       "    <tr>\n",
       "      <th>10</th>\n",
       "      <td>12</td>\n",
       "      <td>23</td>\n",
       "      <td>28.26</td>\n",
       "    </tr>\n",
       "    <tr>\n",
       "      <th>11</th>\n",
       "      <td>13</td>\n",
       "      <td>11</td>\n",
       "      <td>7.21</td>\n",
       "    </tr>\n",
       "    <tr>\n",
       "      <th>12</th>\n",
       "      <td>14</td>\n",
       "      <td>10</td>\n",
       "      <td>5.71</td>\n",
       "    </tr>\n",
       "    <tr>\n",
       "      <th>13</th>\n",
       "      <td>15</td>\n",
       "      <td>6</td>\n",
       "      <td>4.11</td>\n",
       "    </tr>\n",
       "    <tr>\n",
       "      <th>14</th>\n",
       "      <td>16</td>\n",
       "      <td>4</td>\n",
       "      <td>4.21</td>\n",
       "    </tr>\n",
       "    <tr>\n",
       "      <th>15</th>\n",
       "      <td>17</td>\n",
       "      <td>3</td>\n",
       "      <td>1.20</td>\n",
       "    </tr>\n",
       "    <tr>\n",
       "      <th>16</th>\n",
       "      <td>18</td>\n",
       "      <td>6</td>\n",
       "      <td>7.82</td>\n",
       "    </tr>\n",
       "    <tr>\n",
       "      <th>17</th>\n",
       "      <td>19</td>\n",
       "      <td>3</td>\n",
       "      <td>1.20</td>\n",
       "    </tr>\n",
       "  </tbody>\n",
       "</table>\n",
       "</div>"
      ],
      "text/plain": [
       "    level  count     sum\n",
       "0       2      2    3.41\n",
       "1       3      8    5.41\n",
       "2       4     44   31.35\n",
       "3       5     60   15.69\n",
       "4       6     20   12.11\n",
       "5       7     46   16.70\n",
       "6       8    151  117.20\n",
       "7       9    107   75.52\n",
       "8      10     72   48.47\n",
       "9      11     32   24.44\n",
       "10     12     23   28.26\n",
       "11     13     11    7.21\n",
       "12     14     10    5.71\n",
       "13     15      6    4.11\n",
       "14     16      4    4.21\n",
       "15     17      3    1.20\n",
       "16     18      6    7.82\n",
       "17     19      3    1.20"
      ]
     },
     "execution_count": 108,
     "metadata": {},
     "output_type": "execute_result"
    }
   ],
   "source": [
    "max_payment_level = payments_levels_time_diff.groupby('level')['amt'].agg(['count', 'sum']).round(2).reset_index()\n",
    "\n",
    "max_payment_level['level'] = max_payment_level['level'].astype('int')\n",
    "\n",
    "max_payment_level"
   ]
  },
  {
   "cell_type": "markdown",
   "id": "83388f43",
   "metadata": {},
   "source": [
    "Больше всего платежей совершается на 8 и 9 уровнях.\n",
    "\n",
    "Мы можем соотнести эти данные с графиком времени из шага 2.2: на уровнях 8-10 мы видим плато - пользователи начинают больше времени проводить в приложении. Мы мало знаем об исходных данных (что это за обучающее игровое приложение), но возможно на этих уровнх сложность искуственно завышена и пользователям предлагают купить какой-либо буст для простоты дальнейшего прохождения."
   ]
  },
  {
   "cell_type": "markdown",
   "id": "f451c02b",
   "metadata": {},
   "source": [
    "<a id=\"first_payments\"> </a>\n",
    "\n",
    "# 2.5. Где ученики совершают первые платежи?"
   ]
  },
  {
   "cell_type": "code",
   "execution_count": 109,
   "id": "7c011570",
   "metadata": {},
   "outputs": [],
   "source": [
    "first_payments = payments_levels_time_diff.groupby('user_id')[['level', 'pay_time']].min()"
   ]
  },
  {
   "cell_type": "code",
   "execution_count": 110,
   "id": "262a21aa",
   "metadata": {},
   "outputs": [
    {
     "data": {
      "text/html": [
       "<div>\n",
       "<style scoped>\n",
       "    .dataframe tbody tr th:only-of-type {\n",
       "        vertical-align: middle;\n",
       "    }\n",
       "\n",
       "    .dataframe tbody tr th {\n",
       "        vertical-align: top;\n",
       "    }\n",
       "\n",
       "    .dataframe thead th {\n",
       "        text-align: right;\n",
       "    }\n",
       "</style>\n",
       "<table border=\"1\" class=\"dataframe\">\n",
       "  <thead>\n",
       "    <tr style=\"text-align: right;\">\n",
       "      <th></th>\n",
       "      <th>level</th>\n",
       "      <th>count</th>\n",
       "    </tr>\n",
       "  </thead>\n",
       "  <tbody>\n",
       "    <tr>\n",
       "      <th>9</th>\n",
       "      <td>2</td>\n",
       "      <td>2</td>\n",
       "    </tr>\n",
       "    <tr>\n",
       "      <th>7</th>\n",
       "      <td>3</td>\n",
       "      <td>8</td>\n",
       "    </tr>\n",
       "    <tr>\n",
       "      <th>3</th>\n",
       "      <td>4</td>\n",
       "      <td>40</td>\n",
       "    </tr>\n",
       "    <tr>\n",
       "      <th>1</th>\n",
       "      <td>5</td>\n",
       "      <td>55</td>\n",
       "    </tr>\n",
       "    <tr>\n",
       "      <th>6</th>\n",
       "      <td>6</td>\n",
       "      <td>14</td>\n",
       "    </tr>\n",
       "    <tr>\n",
       "      <th>4</th>\n",
       "      <td>7</td>\n",
       "      <td>38</td>\n",
       "    </tr>\n",
       "    <tr>\n",
       "      <th>0</th>\n",
       "      <td>8</td>\n",
       "      <td>73</td>\n",
       "    </tr>\n",
       "    <tr>\n",
       "      <th>2</th>\n",
       "      <td>9</td>\n",
       "      <td>41</td>\n",
       "    </tr>\n",
       "    <tr>\n",
       "      <th>5</th>\n",
       "      <td>10</td>\n",
       "      <td>14</td>\n",
       "    </tr>\n",
       "    <tr>\n",
       "      <th>8</th>\n",
       "      <td>11</td>\n",
       "      <td>4</td>\n",
       "    </tr>\n",
       "    <tr>\n",
       "      <th>10</th>\n",
       "      <td>12</td>\n",
       "      <td>1</td>\n",
       "    </tr>\n",
       "  </tbody>\n",
       "</table>\n",
       "</div>"
      ],
      "text/plain": [
       "    level  count\n",
       "9       2      2\n",
       "7       3      8\n",
       "3       4     40\n",
       "1       5     55\n",
       "6       6     14\n",
       "4       7     38\n",
       "0       8     73\n",
       "2       9     41\n",
       "5      10     14\n",
       "8      11      4\n",
       "10     12      1"
      ]
     },
     "execution_count": 110,
     "metadata": {},
     "output_type": "execute_result"
    }
   ],
   "source": [
    "first_payments_level_count = first_payments['level'].value_counts().reset_index()\n",
    "\n",
    "first_payments_level_count = first_payments_level_count.rename(columns={'index': 'level', 'level': 'count'})\n",
    "\n",
    "first_payments_level_count['level'] = first_payments_level_count['level'].astype('int')\n",
    "\n",
    "first_payments_level_count = first_payments_level_count.sort_values('level')\n",
    "first_payments_level_count"
   ]
  },
  {
   "cell_type": "markdown",
   "id": "c72963ff",
   "metadata": {},
   "source": [
    "Сводная таблица хорошо коррелируется с предыдущими шагами: первые покупки (так же как и большинство) - совершаются на 8 и 9 уровне.\n",
    "\n",
    "На графике ниже пиковые значения совпадают."
   ]
  },
  {
   "cell_type": "code",
   "execution_count": 111,
   "id": "7cbf82b7",
   "metadata": {},
   "outputs": [
    {
     "data": {
      "image/png": "[encoded data removed]",
      "text/plain": [
       "<Figure size 792x288 with 1 Axes>"
      ]
     },
     "metadata": {
      "needs_background": "light"
     },
     "output_type": "display_data"
    }
   ],
   "source": [
    "plt.figure(figsize=(11,4))\n",
    "\n",
    "plt.plot(first_payments_level_count['level'], first_payments_level_count['count'], label='first payment')\n",
    "plt.plot(max_payment_level['level'], max_payment_level['count'], label='total payments on level')\n",
    "plt.title('количество первых платежей / количество совершенных платежей')\n",
    "plt.xlim([2,19])\n",
    "plt.legend()\n",
    "plt.show();"
   ]
  },
  {
   "cell_type": "markdown",
   "id": "f0f2d5c6",
   "metadata": {},
   "source": [
    "<a id=\"conclusion\"> </a>\n",
    "# Общий вывод:"
   ]
  },
  {
   "cell_type": "markdown",
   "id": "e5e32500",
   "metadata": {},
   "source": [
    "<b>Общая информация:</b>\n",
    "\n",
    "В нашем распоряжении было четыре датафрейма:\n",
    "- датафрейм levels - 130 623 строк,\n",
    "- датафрейм payments - 699 строк,\n",
    "- датафрейм sessions - 358 004 строк,\n",
    "- датафрейм users - 31 114 строк\n",
    "\n",
    "В каждом из них:\n",
    "- по 3 столбца,\n",
    "- пропущенных значений - нет,\n",
    "- явных и неявных дубликатов - нет.\n",
    "\n",
    "Период регистрации пользователей - \"2023-05-11\" - \"2023-05-21\"."
   ]
  },
  {
   "cell_type": "markdown",
   "id": "d26a8be9",
   "metadata": {},
   "source": [
    "<b>Расчет метрик:</b>\n",
    "\n",
    "Рассчитав коэффициент удержания, мы выяснили, что в группах от 16 и 18 мая самый высокий процент удержания на 10 день. Эти группы так же хорошо себя показывают себя в плане коэффициента оттока на 10 день.\n",
    "\n",
    "Причина 0% удержания на 10 день у группы от 21 мая - в датасете нет данных за 31 мая.\n",
    "\n",
    "Среднее время пребывания в прилолжении - ~ 7 минут.\n",
    "\n",
    "В имеющихся данных есть аномально длинные сессии (до 1 365 минут), 5% сессий длилось больше 42 минут. Сессий не закрытых в течении того же дня - 2 640.\n",
    "\n",
    "Возможно, приложение не разлогинивает пользователя автоматически без активности и продолжает работать в фоновом режиме.\n",
    "\n",
    "Один пользователь в среднем принес нам: 0.72.\n",
    "\n",
    "Пожизненная ценность клиента - 2.03."
   ]
  },
  {
   "cell_type": "markdown",
   "id": "fd553514",
   "metadata": {},
   "source": [
    "<b>Среднее время, проведенное в приложении; количество платежей:</b>\n",
    "\n",
    "Посчитав и визуализировав среднее и медианное время пребывания в приложении, мы выяснили, что:\n",
    "- линии среднего и медианного значения во много похожи,\n",
    "- до 7 уровня мы наблюдаем рост времени, потом на уровнях 7 - 12 - плато, потом спад.\n",
    "\n",
    "Предполагаем два варината:\n",
    "- либо пользователи, столкнувшиеся с трудностями покидают игру и остаются самые сообразительные,\n",
    "- либо пользователи покупают какой-либо бустер (или подсказки) для более легкого прохождения.\n",
    "\n",
    "Построив сводную таблицы, мы частично подтвердили первое предположение - начиная с 9 уровня идет спад количества пользователей.\n",
    "\n",
    "В первые дни после регистрации пользователи совершают больше всего платежей.\n",
    "\n",
    "Больше всего платежей совершается на 8 и 9 уровнях.\n",
    "\n",
    "Мы можем соотнести эти данные с графиком времени из шага 2.2: на уровнях 8-10 мы видим плато - пользователи начинают больше времени проводить в приложении. Мы мало знаем об исходных данных (что это за обучающее игровое приложение), но возможно на этих уровнх сложность искуственно завышена и пользователям предлагают купить какой-либо буст для простоты дальнейшего прохождения.\n",
    "\n",
    "Сводная таблица хорошо коррелируется с предыдущими шагами: первые покупки (так же как и большинство) - совершаются на 8 и 9 уровне."
   ]
  },
  {
   "cell_type": "markdown",
   "id": "f5f1f970",
   "metadata": {},
   "source": [
    "<a id=\"recommendations\"> </a>\n",
    "# Рекомендации:"
   ]
  },
  {
   "cell_type": "markdown",
   "id": "205cae22",
   "metadata": {},
   "source": [
    "В первую очередь стоит отслеживать:\n",
    "- ARPPU,\n",
    "- а так же контролировать расходы на привлечение новых пользователей; в дальнейшем следует следить за cac и roi.\n",
    "\n",
    "Если рассчитывать расходы на маркетинг, то нам так же понадобится значение бюджета на маркетинг и расчет стоимости одного целевого действия.\n",
    "\n",
    "Так же нас может интересовать воронка конверсии - нам необходимо знать, сколько пользователей и как взаимодействует с продуктом поэтапно.\n",
    "Примерная воронка:\n",
    "- количество кликов -> установок -> регистраций\n",
    "- количество пользователей, которые прошли первый уровень (у нас нет данных об оплате на первых уровнях, предположим, что он - условно-бесплатный),\n",
    "- количество пользвотелей, совершивших первую оплату\n",
    "- и количество пользователей, совершивших повторную оплату."
   ]
  },
  {
   "cell_type": "markdown",
   "id": "03d12860",
   "metadata": {},
   "source": [
    "Так же хочется, чтобы момент оплаты был привязан к уровню, на котором находится пользователь или еще к какому-нибудь дополнительному ключу, чтобы было проще делать выводы."
   ]
  },
  {
   "cell_type": "markdown",
   "id": "f2c3edc6",
   "metadata": {},
   "source": [
    "<div class=\"alert alert-info\"> \n",
    "спасибо за ревью.\n",
    "</div>\n"
   ]
  }
 ],
 "metadata": {
  "kernelspec": {
   "display_name": "Python 3",
   "language": "python",
   "name": "python3"
  },
  "language_info": {
   "codemirror_mode": {
    "name": "ipython",
    "version": 3
   },
   "file_extension": ".py",
   "mimetype": "text/x-python",
   "name": "python",
   "nbconvert_exporter": "python",
   "pygments_lexer": "ipython3",
   "version": "3.8.8"
  }
 },
 "nbformat": 4,
 "nbformat_minor": 5
}
